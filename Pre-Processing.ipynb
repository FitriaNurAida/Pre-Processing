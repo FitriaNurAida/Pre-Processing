{
 "cells": [
  {
   "cell_type": "markdown",
   "metadata": {},
   "source": [
    "# PRE-PROCESSING"
   ]
  },
  {
   "cell_type": "markdown",
   "metadata": {},
   "source": [
    "- Detecting and Cleaning Missing Value\n",
    "- Detecting Outlier\n",
    "- Transformation or Recoding Categorical Value\n",
    "- Feature Selection\n",
    "- Feature Extraction (PCA)"
   ]
  },
  {
   "cell_type": "markdown",
   "metadata": {},
   "source": [
    "## The Characteristics of Data"
   ]
  },
  {
   "cell_type": "code",
   "execution_count": 1,
   "metadata": {},
   "outputs": [],
   "source": [
    "import pandas as pd"
   ]
  },
  {
   "cell_type": "code",
   "execution_count": 3,
   "metadata": {},
   "outputs": [],
   "source": [
    "bms=pd.read_csv(\"bms.csv\",sep=';',index_col=0)"
   ]
  },
  {
   "cell_type": "code",
   "execution_count": 4,
   "metadata": {},
   "outputs": [
    {
     "data": {
      "text/html": [
       "<div>\n",
       "<style scoped>\n",
       "    .dataframe tbody tr th:only-of-type {\n",
       "        vertical-align: middle;\n",
       "    }\n",
       "\n",
       "    .dataframe tbody tr th {\n",
       "        vertical-align: top;\n",
       "    }\n",
       "\n",
       "    .dataframe thead th {\n",
       "        text-align: right;\n",
       "    }\n",
       "</style>\n",
       "<table border=\"1\" class=\"dataframe\">\n",
       "  <thead>\n",
       "    <tr style=\"text-align: right;\">\n",
       "      <th></th>\n",
       "      <th>Item_Weight</th>\n",
       "      <th>Item_Fat_Content</th>\n",
       "      <th>Item_Visibility</th>\n",
       "      <th>Item_Type</th>\n",
       "      <th>Item_MRP</th>\n",
       "      <th>Outlet_Identifier</th>\n",
       "      <th>Outlet_Establishment_Year</th>\n",
       "      <th>Outlet_Size</th>\n",
       "      <th>Outlet_Location_Type</th>\n",
       "      <th>Outlet_Type</th>\n",
       "      <th>Item_Outlet_Sales</th>\n",
       "    </tr>\n",
       "    <tr>\n",
       "      <th>Item_Identifier</th>\n",
       "      <th></th>\n",
       "      <th></th>\n",
       "      <th></th>\n",
       "      <th></th>\n",
       "      <th></th>\n",
       "      <th></th>\n",
       "      <th></th>\n",
       "      <th></th>\n",
       "      <th></th>\n",
       "      <th></th>\n",
       "      <th></th>\n",
       "    </tr>\n",
       "  </thead>\n",
       "  <tbody>\n",
       "    <tr>\n",
       "      <th>FDA15</th>\n",
       "      <td>9.300</td>\n",
       "      <td>Low Fat</td>\n",
       "      <td>0.016047</td>\n",
       "      <td>Dairy</td>\n",
       "      <td>249.8092</td>\n",
       "      <td>OUT049</td>\n",
       "      <td>1999</td>\n",
       "      <td>Medium</td>\n",
       "      <td>Tier 1</td>\n",
       "      <td>Supermarket Type1</td>\n",
       "      <td>3735.1380</td>\n",
       "    </tr>\n",
       "    <tr>\n",
       "      <th>DRC01</th>\n",
       "      <td>5.920</td>\n",
       "      <td>Regular</td>\n",
       "      <td>0.019278</td>\n",
       "      <td>Soft Drinks</td>\n",
       "      <td>48.2692</td>\n",
       "      <td>OUT018</td>\n",
       "      <td>2009</td>\n",
       "      <td>Medium</td>\n",
       "      <td>Tier 3</td>\n",
       "      <td>Supermarket Type2</td>\n",
       "      <td>443.4228</td>\n",
       "    </tr>\n",
       "    <tr>\n",
       "      <th>FDN15</th>\n",
       "      <td>17.500</td>\n",
       "      <td>Low Fat</td>\n",
       "      <td>0.016760</td>\n",
       "      <td>Meat</td>\n",
       "      <td>141.6180</td>\n",
       "      <td>OUT049</td>\n",
       "      <td>1999</td>\n",
       "      <td>Medium</td>\n",
       "      <td>Tier 1</td>\n",
       "      <td>Supermarket Type1</td>\n",
       "      <td>2097.2700</td>\n",
       "    </tr>\n",
       "    <tr>\n",
       "      <th>FDX07</th>\n",
       "      <td>19.200</td>\n",
       "      <td>Regular</td>\n",
       "      <td>0.000000</td>\n",
       "      <td>Fruits and Vegetables</td>\n",
       "      <td>182.0950</td>\n",
       "      <td>OUT010</td>\n",
       "      <td>1998</td>\n",
       "      <td>NaN</td>\n",
       "      <td>Tier 3</td>\n",
       "      <td>Grocery Store</td>\n",
       "      <td>732.3800</td>\n",
       "    </tr>\n",
       "    <tr>\n",
       "      <th>NCD19</th>\n",
       "      <td>8.930</td>\n",
       "      <td>Low Fat</td>\n",
       "      <td>0.000000</td>\n",
       "      <td>Household</td>\n",
       "      <td>53.8614</td>\n",
       "      <td>OUT013</td>\n",
       "      <td>1987</td>\n",
       "      <td>High</td>\n",
       "      <td>Tier 3</td>\n",
       "      <td>Supermarket Type1</td>\n",
       "      <td>994.7052</td>\n",
       "    </tr>\n",
       "    <tr>\n",
       "      <th>FDP36</th>\n",
       "      <td>10.395</td>\n",
       "      <td>Regular</td>\n",
       "      <td>0.000000</td>\n",
       "      <td>Baking Goods</td>\n",
       "      <td>51.4008</td>\n",
       "      <td>OUT018</td>\n",
       "      <td>2009</td>\n",
       "      <td>Medium</td>\n",
       "      <td>Tier 3</td>\n",
       "      <td>Supermarket Type2</td>\n",
       "      <td>556.6088</td>\n",
       "    </tr>\n",
       "    <tr>\n",
       "      <th>FDO10</th>\n",
       "      <td>13.650</td>\n",
       "      <td>Regular</td>\n",
       "      <td>0.012741</td>\n",
       "      <td>Snack Foods</td>\n",
       "      <td>57.6588</td>\n",
       "      <td>OUT013</td>\n",
       "      <td>1987</td>\n",
       "      <td>High</td>\n",
       "      <td>Tier 3</td>\n",
       "      <td>Supermarket Type1</td>\n",
       "      <td>343.5528</td>\n",
       "    </tr>\n",
       "    <tr>\n",
       "      <th>FDP10</th>\n",
       "      <td>NaN</td>\n",
       "      <td>Low Fat</td>\n",
       "      <td>0.127470</td>\n",
       "      <td>Snack Foods</td>\n",
       "      <td>107.7622</td>\n",
       "      <td>OUT027</td>\n",
       "      <td>1985</td>\n",
       "      <td>Medium</td>\n",
       "      <td>Tier 3</td>\n",
       "      <td>Supermarket Type3</td>\n",
       "      <td>4022.7636</td>\n",
       "    </tr>\n",
       "    <tr>\n",
       "      <th>FDH17</th>\n",
       "      <td>16.200</td>\n",
       "      <td>Regular</td>\n",
       "      <td>0.016687</td>\n",
       "      <td>Frozen Foods</td>\n",
       "      <td>96.9726</td>\n",
       "      <td>OUT045</td>\n",
       "      <td>2002</td>\n",
       "      <td>NaN</td>\n",
       "      <td>Tier 2</td>\n",
       "      <td>Supermarket Type1</td>\n",
       "      <td>1076.5986</td>\n",
       "    </tr>\n",
       "    <tr>\n",
       "      <th>FDU28</th>\n",
       "      <td>19.200</td>\n",
       "      <td>Regular</td>\n",
       "      <td>0.094450</td>\n",
       "      <td>Frozen Foods</td>\n",
       "      <td>187.8214</td>\n",
       "      <td>OUT017</td>\n",
       "      <td>2007</td>\n",
       "      <td>NaN</td>\n",
       "      <td>Tier 2</td>\n",
       "      <td>Supermarket Type1</td>\n",
       "      <td>4710.5350</td>\n",
       "    </tr>\n",
       "  </tbody>\n",
       "</table>\n",
       "</div>"
      ],
      "text/plain": [
       "                 Item_Weight Item_Fat_Content  Item_Visibility  \\\n",
       "Item_Identifier                                                  \n",
       "FDA15                  9.300          Low Fat         0.016047   \n",
       "DRC01                  5.920          Regular         0.019278   \n",
       "FDN15                 17.500          Low Fat         0.016760   \n",
       "FDX07                 19.200          Regular         0.000000   \n",
       "NCD19                  8.930          Low Fat         0.000000   \n",
       "FDP36                 10.395          Regular         0.000000   \n",
       "FDO10                 13.650          Regular         0.012741   \n",
       "FDP10                    NaN          Low Fat         0.127470   \n",
       "FDH17                 16.200          Regular         0.016687   \n",
       "FDU28                 19.200          Regular         0.094450   \n",
       "\n",
       "                             Item_Type  Item_MRP Outlet_Identifier  \\\n",
       "Item_Identifier                                                      \n",
       "FDA15                            Dairy  249.8092            OUT049   \n",
       "DRC01                      Soft Drinks   48.2692            OUT018   \n",
       "FDN15                             Meat  141.6180            OUT049   \n",
       "FDX07            Fruits and Vegetables  182.0950            OUT010   \n",
       "NCD19                        Household   53.8614            OUT013   \n",
       "FDP36                     Baking Goods   51.4008            OUT018   \n",
       "FDO10                      Snack Foods   57.6588            OUT013   \n",
       "FDP10                      Snack Foods  107.7622            OUT027   \n",
       "FDH17                     Frozen Foods   96.9726            OUT045   \n",
       "FDU28                     Frozen Foods  187.8214            OUT017   \n",
       "\n",
       "                 Outlet_Establishment_Year Outlet_Size Outlet_Location_Type  \\\n",
       "Item_Identifier                                                               \n",
       "FDA15                                 1999      Medium               Tier 1   \n",
       "DRC01                                 2009      Medium               Tier 3   \n",
       "FDN15                                 1999      Medium               Tier 1   \n",
       "FDX07                                 1998         NaN               Tier 3   \n",
       "NCD19                                 1987        High               Tier 3   \n",
       "FDP36                                 2009      Medium               Tier 3   \n",
       "FDO10                                 1987        High               Tier 3   \n",
       "FDP10                                 1985      Medium               Tier 3   \n",
       "FDH17                                 2002         NaN               Tier 2   \n",
       "FDU28                                 2007         NaN               Tier 2   \n",
       "\n",
       "                       Outlet_Type  Item_Outlet_Sales  \n",
       "Item_Identifier                                        \n",
       "FDA15            Supermarket Type1          3735.1380  \n",
       "DRC01            Supermarket Type2           443.4228  \n",
       "FDN15            Supermarket Type1          2097.2700  \n",
       "FDX07                Grocery Store           732.3800  \n",
       "NCD19            Supermarket Type1           994.7052  \n",
       "FDP36            Supermarket Type2           556.6088  \n",
       "FDO10            Supermarket Type1           343.5528  \n",
       "FDP10            Supermarket Type3          4022.7636  \n",
       "FDH17            Supermarket Type1          1076.5986  \n",
       "FDU28            Supermarket Type1          4710.5350  "
      ]
     },
     "execution_count": 4,
     "metadata": {},
     "output_type": "execute_result"
    }
   ],
   "source": [
    "bms.head(10)"
   ]
  },
  {
   "cell_type": "code",
   "execution_count": 5,
   "metadata": {},
   "outputs": [
    {
     "data": {
      "text/plain": [
       "(8523, 11)"
      ]
     },
     "execution_count": 5,
     "metadata": {},
     "output_type": "execute_result"
    }
   ],
   "source": [
    "bms.shape"
   ]
  },
  {
   "cell_type": "code",
   "execution_count": 6,
   "metadata": {},
   "outputs": [
    {
     "data": {
      "text/html": [
       "<div>\n",
       "<style scoped>\n",
       "    .dataframe tbody tr th:only-of-type {\n",
       "        vertical-align: middle;\n",
       "    }\n",
       "\n",
       "    .dataframe tbody tr th {\n",
       "        vertical-align: top;\n",
       "    }\n",
       "\n",
       "    .dataframe thead th {\n",
       "        text-align: right;\n",
       "    }\n",
       "</style>\n",
       "<table border=\"1\" class=\"dataframe\">\n",
       "  <thead>\n",
       "    <tr style=\"text-align: right;\">\n",
       "      <th></th>\n",
       "      <th>Item_Weight</th>\n",
       "      <th>Item_Visibility</th>\n",
       "      <th>Item_MRP</th>\n",
       "      <th>Outlet_Establishment_Year</th>\n",
       "      <th>Item_Outlet_Sales</th>\n",
       "    </tr>\n",
       "  </thead>\n",
       "  <tbody>\n",
       "    <tr>\n",
       "      <th>count</th>\n",
       "      <td>7060.000000</td>\n",
       "      <td>8523.000000</td>\n",
       "      <td>8523.000000</td>\n",
       "      <td>8523.000000</td>\n",
       "      <td>8523.000000</td>\n",
       "    </tr>\n",
       "    <tr>\n",
       "      <th>mean</th>\n",
       "      <td>12.857645</td>\n",
       "      <td>0.066132</td>\n",
       "      <td>140.992782</td>\n",
       "      <td>1997.831867</td>\n",
       "      <td>2181.288914</td>\n",
       "    </tr>\n",
       "    <tr>\n",
       "      <th>std</th>\n",
       "      <td>4.643456</td>\n",
       "      <td>0.051598</td>\n",
       "      <td>62.275067</td>\n",
       "      <td>8.371760</td>\n",
       "      <td>1706.499616</td>\n",
       "    </tr>\n",
       "    <tr>\n",
       "      <th>min</th>\n",
       "      <td>4.555000</td>\n",
       "      <td>0.000000</td>\n",
       "      <td>31.290000</td>\n",
       "      <td>1985.000000</td>\n",
       "      <td>33.290000</td>\n",
       "    </tr>\n",
       "    <tr>\n",
       "      <th>25%</th>\n",
       "      <td>8.773750</td>\n",
       "      <td>0.026989</td>\n",
       "      <td>93.826500</td>\n",
       "      <td>1987.000000</td>\n",
       "      <td>834.247400</td>\n",
       "    </tr>\n",
       "    <tr>\n",
       "      <th>50%</th>\n",
       "      <td>12.600000</td>\n",
       "      <td>0.053931</td>\n",
       "      <td>143.012800</td>\n",
       "      <td>1999.000000</td>\n",
       "      <td>1794.331000</td>\n",
       "    </tr>\n",
       "    <tr>\n",
       "      <th>75%</th>\n",
       "      <td>16.850000</td>\n",
       "      <td>0.094585</td>\n",
       "      <td>185.643700</td>\n",
       "      <td>2004.000000</td>\n",
       "      <td>3101.296400</td>\n",
       "    </tr>\n",
       "    <tr>\n",
       "      <th>max</th>\n",
       "      <td>21.350000</td>\n",
       "      <td>0.328391</td>\n",
       "      <td>266.888400</td>\n",
       "      <td>2009.000000</td>\n",
       "      <td>13086.964800</td>\n",
       "    </tr>\n",
       "  </tbody>\n",
       "</table>\n",
       "</div>"
      ],
      "text/plain": [
       "       Item_Weight  Item_Visibility     Item_MRP  Outlet_Establishment_Year  \\\n",
       "count  7060.000000      8523.000000  8523.000000                8523.000000   \n",
       "mean     12.857645         0.066132   140.992782                1997.831867   \n",
       "std       4.643456         0.051598    62.275067                   8.371760   \n",
       "min       4.555000         0.000000    31.290000                1985.000000   \n",
       "25%       8.773750         0.026989    93.826500                1987.000000   \n",
       "50%      12.600000         0.053931   143.012800                1999.000000   \n",
       "75%      16.850000         0.094585   185.643700                2004.000000   \n",
       "max      21.350000         0.328391   266.888400                2009.000000   \n",
       "\n",
       "       Item_Outlet_Sales  \n",
       "count        8523.000000  \n",
       "mean         2181.288914  \n",
       "std          1706.499616  \n",
       "min            33.290000  \n",
       "25%           834.247400  \n",
       "50%          1794.331000  \n",
       "75%          3101.296400  \n",
       "max         13086.964800  "
      ]
     },
     "execution_count": 6,
     "metadata": {},
     "output_type": "execute_result"
    }
   ],
   "source": [
    "bms.describe()"
   ]
  },
  {
   "cell_type": "code",
   "execution_count": 7,
   "metadata": {},
   "outputs": [
    {
     "data": {
      "text/plain": [
       "Low Fat    5089\n",
       "Regular    2889\n",
       "LF          316\n",
       "reg         117\n",
       "low fat     112\n",
       "Name: Item_Fat_Content, dtype: int64"
      ]
     },
     "execution_count": 7,
     "metadata": {},
     "output_type": "execute_result"
    }
   ],
   "source": [
    "bms[\"Item_Fat_Content\"].value_counts()"
   ]
  },
  {
   "cell_type": "code",
   "execution_count": 8,
   "metadata": {},
   "outputs": [
    {
     "data": {
      "text/plain": [
       "Fruits and Vegetables    1232\n",
       "Snack Foods              1200\n",
       "Household                 910\n",
       "Frozen Foods              856\n",
       "Dairy                     682\n",
       "Canned                    649\n",
       "Baking Goods              648\n",
       "Health and Hygiene        520\n",
       "Soft Drinks               445\n",
       "Meat                      425\n",
       "Breads                    251\n",
       "Hard Drinks               214\n",
       "Others                    169\n",
       "Starchy Foods             148\n",
       "Breakfast                 110\n",
       "Seafood                    64\n",
       "Name: Item_Type, dtype: int64"
      ]
     },
     "execution_count": 8,
     "metadata": {},
     "output_type": "execute_result"
    }
   ],
   "source": [
    "bms[\"Item_Type\"].value_counts()"
   ]
  },
  {
   "cell_type": "code",
   "execution_count": 9,
   "metadata": {},
   "outputs": [
    {
     "data": {
      "text/plain": [
       "OUT027    935\n",
       "OUT013    932\n",
       "OUT049    930\n",
       "OUT035    930\n",
       "OUT046    930\n",
       "OUT045    929\n",
       "OUT018    928\n",
       "OUT017    926\n",
       "OUT010    555\n",
       "OUT019    528\n",
       "Name: Outlet_Identifier, dtype: int64"
      ]
     },
     "execution_count": 9,
     "metadata": {},
     "output_type": "execute_result"
    }
   ],
   "source": [
    "bms[\"Outlet_Identifier\"].value_counts()"
   ]
  },
  {
   "cell_type": "code",
   "execution_count": 10,
   "metadata": {},
   "outputs": [
    {
     "data": {
      "text/plain": [
       "1985    1463\n",
       "1987     932\n",
       "1999     930\n",
       "1997     930\n",
       "2004     930\n",
       "2002     929\n",
       "2009     928\n",
       "2007     926\n",
       "1998     555\n",
       "Name: Outlet_Establishment_Year, dtype: int64"
      ]
     },
     "execution_count": 10,
     "metadata": {},
     "output_type": "execute_result"
    }
   ],
   "source": [
    "bms[\"Outlet_Establishment_Year\"].value_counts()"
   ]
  },
  {
   "cell_type": "code",
   "execution_count": 11,
   "metadata": {},
   "outputs": [
    {
     "data": {
      "text/plain": [
       "Medium    2793\n",
       "Small     2388\n",
       "High       932\n",
       "Name: Outlet_Size, dtype: int64"
      ]
     },
     "execution_count": 11,
     "metadata": {},
     "output_type": "execute_result"
    }
   ],
   "source": [
    "bms[\"Outlet_Size\"].value_counts()"
   ]
  },
  {
   "cell_type": "code",
   "execution_count": 12,
   "metadata": {},
   "outputs": [
    {
     "data": {
      "text/plain": [
       "Tier 3    3350\n",
       "Tier 2    2785\n",
       "Tier 1    2388\n",
       "Name: Outlet_Location_Type, dtype: int64"
      ]
     },
     "execution_count": 12,
     "metadata": {},
     "output_type": "execute_result"
    }
   ],
   "source": [
    "bms[\"Outlet_Location_Type\"].value_counts()"
   ]
  },
  {
   "cell_type": "code",
   "execution_count": 13,
   "metadata": {},
   "outputs": [
    {
     "data": {
      "text/plain": [
       "Supermarket Type1    5577\n",
       "Grocery Store        1083\n",
       "Supermarket Type3     935\n",
       "Supermarket Type2     928\n",
       "Name: Outlet_Type, dtype: int64"
      ]
     },
     "execution_count": 13,
     "metadata": {},
     "output_type": "execute_result"
    }
   ],
   "source": [
    "bms[\"Outlet_Type\"].value_counts()"
   ]
  },
  {
   "cell_type": "markdown",
   "metadata": {},
   "source": [
    "> There is an inconsistent data in Item_Fat_Content Variable, so we need to replace \"LF\" and \"low fat\" to \"Low Fat, \"reg\" to \"Regular\"."
   ]
  },
  {
   "cell_type": "code",
   "execution_count": 14,
   "metadata": {},
   "outputs": [],
   "source": [
    "bms[\"Item_Fat_Content\"]=bms[\"Item_Fat_Content\"].replace([\"LF\",\"low fat\"],\"Low Fat\")\n",
    "bms[\"Item_Fat_Content\"]=bms[\"Item_Fat_Content\"].replace(\"reg\",\"Regular\")"
   ]
  },
  {
   "cell_type": "code",
   "execution_count": 15,
   "metadata": {},
   "outputs": [
    {
     "data": {
      "text/plain": [
       "Low Fat    5517\n",
       "Regular    3006\n",
       "Name: Item_Fat_Content, dtype: int64"
      ]
     },
     "execution_count": 15,
     "metadata": {},
     "output_type": "execute_result"
    }
   ],
   "source": [
    "bms[\"Item_Fat_Content\"].value_counts()"
   ]
  },
  {
   "cell_type": "code",
   "execution_count": 16,
   "metadata": {},
   "outputs": [
    {
     "data": {
      "text/plain": [
       "Item_Weight                  float64\n",
       "Item_Fat_Content              object\n",
       "Item_Visibility              float64\n",
       "Item_Type                     object\n",
       "Item_MRP                     float64\n",
       "Outlet_Identifier             object\n",
       "Outlet_Establishment_Year      int64\n",
       "Outlet_Size                   object\n",
       "Outlet_Location_Type          object\n",
       "Outlet_Type                   object\n",
       "Item_Outlet_Sales            float64\n",
       "dtype: object"
      ]
     },
     "execution_count": 16,
     "metadata": {},
     "output_type": "execute_result"
    }
   ],
   "source": [
    "bms.dtypes"
   ]
  },
  {
   "cell_type": "code",
   "execution_count": 17,
   "metadata": {},
   "outputs": [],
   "source": [
    "import matplotlib.pyplot as plt\n",
    "%matplotlib inline\n",
    "\n",
    "plt.style.use(\"seaborn\")\n",
    "import seaborn as sns"
   ]
  },
  {
   "cell_type": "code",
   "execution_count": 18,
   "metadata": {},
   "outputs": [
    {
     "data": {
      "text/plain": [
       "<matplotlib.axes._subplots.AxesSubplot at 0x1d65cc40400>"
      ]
     },
     "execution_count": 18,
     "metadata": {},
     "output_type": "execute_result"
    },
    {
     "data": {
      "image/png": "[encoded data removed]",
      "text/plain": [
       "<Figure size 432x288 with 2 Axes>"
      ]
     },
     "metadata": {
      "needs_background": "light"
     },
     "output_type": "display_data"
    }
   ],
   "source": [
    "corr=bms.corr()\n",
    "sns.heatmap(corr)"
   ]
  },
  {
   "cell_type": "markdown",
   "metadata": {},
   "source": [
    "## Detecting Missing Values "
   ]
  },
  {
   "cell_type": "code",
   "execution_count": 19,
   "metadata": {},
   "outputs": [],
   "source": [
    "import numpy as np"
   ]
  },
  {
   "cell_type": "code",
   "execution_count": 20,
   "metadata": {},
   "outputs": [
    {
     "name": "stdout",
     "output_type": "stream",
     "text": [
      "<class 'pandas.core.frame.DataFrame'>\n",
      "Index: 8523 entries, FDA15 to DRG01\n",
      "Data columns (total 11 columns):\n",
      "Item_Weight                  7060 non-null float64\n",
      "Item_Fat_Content             8523 non-null object\n",
      "Item_Visibility              8523 non-null float64\n",
      "Item_Type                    8523 non-null object\n",
      "Item_MRP                     8523 non-null float64\n",
      "Outlet_Identifier            8523 non-null object\n",
      "Outlet_Establishment_Year    8523 non-null int64\n",
      "Outlet_Size                  6113 non-null object\n",
      "Outlet_Location_Type         8523 non-null object\n",
      "Outlet_Type                  8523 non-null object\n",
      "Item_Outlet_Sales            8523 non-null float64\n",
      "dtypes: float64(4), int64(1), object(6)\n",
      "memory usage: 799.0+ KB\n"
     ]
    }
   ],
   "source": [
    "bms.info()"
   ]
  },
  {
   "cell_type": "code",
   "execution_count": 21,
   "metadata": {},
   "outputs": [
    {
     "data": {
      "text/plain": [
       "Item_Weight                  1463\n",
       "Item_Fat_Content                0\n",
       "Item_Visibility                 0\n",
       "Item_Type                       0\n",
       "Item_MRP                        0\n",
       "Outlet_Identifier               0\n",
       "Outlet_Establishment_Year       0\n",
       "Outlet_Size                  2410\n",
       "Outlet_Location_Type            0\n",
       "Outlet_Type                     0\n",
       "Item_Outlet_Sales               0\n",
       "dtype: int64"
      ]
     },
     "execution_count": 21,
     "metadata": {},
     "output_type": "execute_result"
    }
   ],
   "source": [
    "np.sum(bms.isnull())"
   ]
  },
  {
   "cell_type": "markdown",
   "metadata": {},
   "source": [
    "> We know that there is some missing values in Item_Weight and Outlet_Size Variable, the persentation of missing values in Item_Weight Variable is 17.16% and 28.28% in Outlet_Sales Variable. Based on the correlation matrix above, we don't need to drop this missing values or variables but we need to cleaning this missing values by imputing with mean, median, or mode."
   ]
  },
  {
   "cell_type": "markdown",
   "metadata": {},
   "source": [
    "## Cleaning Missing Values"
   ]
  },
  {
   "cell_type": "markdown",
   "metadata": {},
   "source": [
    "> Cleaning missing values in Item_Weight Variable by mean imputation because the type of data is numeric. Cleaning missing values in categorical variable such as Outlet_Size by imputing with mode."
   ]
  },
  {
   "cell_type": "code",
   "execution_count": 22,
   "metadata": {},
   "outputs": [],
   "source": [
    "from sklearn.preprocessing import Imputer\n",
    "from scipy.stats import mode"
   ]
  },
  {
   "cell_type": "code",
   "execution_count": 23,
   "metadata": {},
   "outputs": [
    {
     "data": {
      "text/plain": [
       "12.857645184136183"
      ]
     },
     "execution_count": 23,
     "metadata": {},
     "output_type": "execute_result"
    }
   ],
   "source": [
    "bms[\"Item_Weight\"].mean()"
   ]
  },
  {
   "cell_type": "code",
   "execution_count": 24,
   "metadata": {},
   "outputs": [
    {
     "data": {
      "text/plain": [
       "0    Medium\n",
       "dtype: object"
      ]
     },
     "execution_count": 24,
     "metadata": {},
     "output_type": "execute_result"
    }
   ],
   "source": [
    "bms[\"Outlet_Size\"].mode()"
   ]
  },
  {
   "cell_type": "code",
   "execution_count": 25,
   "metadata": {},
   "outputs": [],
   "source": [
    "bms[\"Item_Weight\"]=bms[\"Item_Weight\"].fillna(bms[\"Item_Weight\"].mean())\n",
    "bms[\"Outlet_Size\"]=bms[\"Outlet_Size\"].fillna(bms[\"Outlet_Size\"].mode()[0])"
   ]
  },
  {
   "cell_type": "code",
   "execution_count": 26,
   "metadata": {},
   "outputs": [
    {
     "data": {
      "text/plain": [
       "Item_Weight                  0\n",
       "Item_Fat_Content             0\n",
       "Item_Visibility              0\n",
       "Item_Type                    0\n",
       "Item_MRP                     0\n",
       "Outlet_Identifier            0\n",
       "Outlet_Establishment_Year    0\n",
       "Outlet_Size                  0\n",
       "Outlet_Location_Type         0\n",
       "Outlet_Type                  0\n",
       "Item_Outlet_Sales            0\n",
       "dtype: int64"
      ]
     },
     "execution_count": 26,
     "metadata": {},
     "output_type": "execute_result"
    }
   ],
   "source": [
    "bms.isnull().sum()"
   ]
  },
  {
   "cell_type": "markdown",
   "metadata": {},
   "source": [
    "## Detecting Outlier"
   ]
  },
  {
   "cell_type": "code",
   "execution_count": 27,
   "metadata": {},
   "outputs": [
    {
     "data": {
      "text/plain": [
       "<matplotlib.axes._subplots.AxesSubplot at 0x1d65c1dde80>"
      ]
     },
     "execution_count": 27,
     "metadata": {},
     "output_type": "execute_result"
    },
    {
     "data": {
      "image/png": "[encoded data removed]",
      "text/plain": [
       "<Figure size 432x288 with 1 Axes>"
      ]
     },
     "metadata": {
      "needs_background": "light"
     },
     "output_type": "display_data"
    }
   ],
   "source": [
    "bms.boxplot(column=\"Item_Weight\")"
   ]
  },
  {
   "cell_type": "code",
   "execution_count": 28,
   "metadata": {},
   "outputs": [
    {
     "data": {
      "text/plain": [
       "<matplotlib.axes._subplots.AxesSubplot at 0x1d65e605fd0>"
      ]
     },
     "execution_count": 28,
     "metadata": {},
     "output_type": "execute_result"
    },
    {
     "data": {
      "image/png": "[encoded data removed]",
      "text/plain": [
       "<Figure size 432x288 with 1 Axes>"
      ]
     },
     "metadata": {
      "needs_background": "light"
     },
     "output_type": "display_data"
    }
   ],
   "source": [
    "bms.boxplot(column=\"Item_Outlet_Sales\")"
   ]
  },
  {
   "cell_type": "code",
   "execution_count": 29,
   "metadata": {},
   "outputs": [
    {
     "data": {
      "text/plain": [
       "<matplotlib.axes._subplots.AxesSubplot at 0x1d65e64fdd8>"
      ]
     },
     "execution_count": 29,
     "metadata": {},
     "output_type": "execute_result"
    },
    {
     "data": {
      "image/png": "[encoded data removed]",
      "text/plain": [
       "<Figure size 432x288 with 1 Axes>"
      ]
     },
     "metadata": {
      "needs_background": "light"
     },
     "output_type": "display_data"
    }
   ],
   "source": [
    "bms.boxplot(column=\"Item_MRP\")"
   ]
  },
  {
   "cell_type": "code",
   "execution_count": 30,
   "metadata": {},
   "outputs": [
    {
     "data": {
      "text/plain": [
       "<matplotlib.axes._subplots.AxesSubplot at 0x1d65e6b8e10>"
      ]
     },
     "execution_count": 30,
     "metadata": {},
     "output_type": "execute_result"
    },
    {
     "data": {
      "image/png": "[encoded data removed]",
      "text/plain": [
       "<Figure size 432x288 with 1 Axes>"
      ]
     },
     "metadata": {
      "needs_background": "light"
     },
     "output_type": "display_data"
    }
   ],
   "source": [
    "bms.boxplot(column=\"Item_Visibility\")"
   ]
  },
  {
   "cell_type": "markdown",
   "metadata": {},
   "source": [
    "> There is no outlier in Item_Weight, Item_Visibility, Item_MRP, and Item_Outlet_Sales Variables."
   ]
  },
  {
   "cell_type": "code",
   "execution_count": 32,
   "metadata": {},
   "outputs": [
    {
     "name": "stdout",
     "output_type": "stream",
     "text": [
      "[[0.84187169 0.97073217 1.74745381 0.13954076 0.910601  ]\n",
      " [1.64170589 0.90811123 1.48902325 1.33410274 1.01844035]\n",
      " [1.09855449 0.95691733 0.01004021 0.13954076 0.04923754]\n",
      " ...\n",
      " [0.53424315 0.59978449 0.89720755 0.73682175 0.57909963]\n",
      " [1.33644372 1.53287976 0.60797692 1.33410274 0.19672492]\n",
      " [0.45963367 0.41193591 1.05226104 0.09937163 0.82959407]]\n"
     ]
    }
   ],
   "source": [
    "from scipy import stats\n",
    "z=np.abs(stats.zscore(bms._get_numeric_data()))\n",
    "print(z)"
   ]
  },
  {
   "cell_type": "code",
   "execution_count": 33,
   "metadata": {},
   "outputs": [
    {
     "name": "stdout",
     "output_type": "stream",
     "text": [
      "(8338, 11)\n"
     ]
    }
   ],
   "source": [
    "outlier=bms[(z<3).all(axis=1)]\n",
    "print(outlier.shape)"
   ]
  },
  {
   "cell_type": "code",
   "execution_count": 34,
   "metadata": {},
   "outputs": [],
   "source": [
    "import seaborn as sns\n",
    "sns.set(style=\"whitegrid\")"
   ]
  },
  {
   "cell_type": "code",
   "execution_count": 36,
   "metadata": {},
   "outputs": [
    {
     "data": {
      "text/html": [
       "<div>\n",
       "<style scoped>\n",
       "    .dataframe tbody tr th:only-of-type {\n",
       "        vertical-align: middle;\n",
       "    }\n",
       "\n",
       "    .dataframe tbody tr th {\n",
       "        vertical-align: top;\n",
       "    }\n",
       "\n",
       "    .dataframe thead th {\n",
       "        text-align: right;\n",
       "    }\n",
       "</style>\n",
       "<table border=\"1\" class=\"dataframe\">\n",
       "  <thead>\n",
       "    <tr style=\"text-align: right;\">\n",
       "      <th></th>\n",
       "      <th>Keterangan:</th>\n",
       "      <th>jumlah observasi</th>\n",
       "    </tr>\n",
       "  </thead>\n",
       "  <tbody>\n",
       "    <tr>\n",
       "      <th>0</th>\n",
       "      <td>tidak ada outlier</td>\n",
       "      <td>8338</td>\n",
       "    </tr>\n",
       "    <tr>\n",
       "      <th>1</th>\n",
       "      <td>outlier</td>\n",
       "      <td>185</td>\n",
       "    </tr>\n",
       "  </tbody>\n",
       "</table>\n",
       "</div>"
      ],
      "text/plain": [
       "         Keterangan:  jumlah observasi\n",
       "0  tidak ada outlier              8338\n",
       "1            outlier               185"
      ]
     },
     "execution_count": 36,
     "metadata": {},
     "output_type": "execute_result"
    }
   ],
   "source": [
    "c=pd.DataFrame([])\n",
    "c[\"Keterangan:\"]=[\"tidak ada outlier\",\"outlier\"]\n",
    "c[\"jumlah observasi\"]=[8338,8523-8338]\n",
    "c"
   ]
  },
  {
   "cell_type": "code",
   "execution_count": 37,
   "metadata": {},
   "outputs": [
    {
     "data": {
      "image/png": "[encoded data removed]",
      "text/plain": [
       "<Figure size 432x288 with 1 Axes>"
      ]
     },
     "metadata": {},
     "output_type": "display_data"
    }
   ],
   "source": [
    "plot=sns.barplot(x=\"Keterangan:\",y=\"jumlah observasi\",data=c)"
   ]
  },
  {
   "cell_type": "markdown",
   "metadata": {},
   "source": [
    "> There are 185 multivariate outliers"
   ]
  },
  {
   "cell_type": "markdown",
   "metadata": {},
   "source": [
    "## Data Visualization"
   ]
  },
  {
   "cell_type": "code",
   "execution_count": 38,
   "metadata": {},
   "outputs": [],
   "source": [
    "sns.set(style=\"whitegrid\")"
   ]
  },
  {
   "cell_type": "code",
   "execution_count": 39,
   "metadata": {},
   "outputs": [
    {
     "name": "stderr",
     "output_type": "stream",
     "text": [
      "C:\\Users\\Fitria Nur Aida\\Anaconda3\\lib\\site-packages\\scipy\\stats\\stats.py:1713: FutureWarning: Using a non-tuple sequence for multidimensional indexing is deprecated; use `arr[tuple(seq)]` instead of `arr[seq]`. In the future this will be interpreted as an array index, `arr[np.array(seq)]`, which will result either in an error or a different result.\n",
      "  return np.add.reduce(sorted[indexer] * weights, axis=axis) / sumval\n"
     ]
    },
    {
     "data": {
      "text/plain": [
       "<matplotlib.axes._subplots.AxesSubplot at 0x1d65b737e80>"
      ]
     },
     "execution_count": 39,
     "metadata": {},
     "output_type": "execute_result"
    },
    {
     "data": {
      "image/png": "[encoded data removed]",
      "text/plain": [
       "<Figure size 432x288 with 1 Axes>"
      ]
     },
     "metadata": {},
     "output_type": "display_data"
    }
   ],
   "source": [
    "sns.barplot(x=\"Item_Outlet_Sales\",y=\"Outlet_Type\",data=bms)"
   ]
  },
  {
   "cell_type": "code",
   "execution_count": 40,
   "metadata": {},
   "outputs": [
    {
     "data": {
      "text/plain": [
       "<matplotlib.axes._subplots.AxesSubplot at 0x1d65eaa3da0>"
      ]
     },
     "execution_count": 40,
     "metadata": {},
     "output_type": "execute_result"
    },
    {
     "data": {
      "image/png": "[encoded data removed]",
      "text/plain": [
       "<Figure size 432x288 with 1 Axes>"
      ]
     },
     "metadata": {},
     "output_type": "display_data"
    }
   ],
   "source": [
    "sns.barplot(x=\"Item_Outlet_Sales\",y=\"Item_Type\",data=bms)"
   ]
  },
  {
   "cell_type": "code",
   "execution_count": 41,
   "metadata": {},
   "outputs": [
    {
     "data": {
      "text/plain": [
       "<matplotlib.axes._subplots.AxesSubplot at 0x1d65eaa35f8>"
      ]
     },
     "execution_count": 41,
     "metadata": {},
     "output_type": "execute_result"
    },
    {
     "data": {
      "image/png": "[encoded data removed]",
      "text/plain": [
       "<Figure size 432x288 with 1 Axes>"
      ]
     },
     "metadata": {},
     "output_type": "display_data"
    }
   ],
   "source": [
    "sns.barplot(y=\"Item_Outlet_Sales\",x=\"Item_Fat_Content\",data=bms)"
   ]
  },
  {
   "cell_type": "markdown",
   "metadata": {},
   "source": [
    "## Transformation or Recoding Categorical Value"
   ]
  },
  {
   "cell_type": "code",
   "execution_count": 43,
   "metadata": {},
   "outputs": [
    {
     "data": {
      "text/html": [
       "<div>\n",
       "<style scoped>\n",
       "    .dataframe tbody tr th:only-of-type {\n",
       "        vertical-align: middle;\n",
       "    }\n",
       "\n",
       "    .dataframe tbody tr th {\n",
       "        vertical-align: top;\n",
       "    }\n",
       "\n",
       "    .dataframe thead th {\n",
       "        text-align: right;\n",
       "    }\n",
       "</style>\n",
       "<table border=\"1\" class=\"dataframe\">\n",
       "  <thead>\n",
       "    <tr style=\"text-align: right;\">\n",
       "      <th></th>\n",
       "      <th>Item_Weight</th>\n",
       "      <th>Item_Fat_Content</th>\n",
       "      <th>Item_Visibility</th>\n",
       "      <th>Item_Type</th>\n",
       "      <th>Item_MRP</th>\n",
       "      <th>Outlet_Identifier</th>\n",
       "      <th>Outlet_Establishment_Year</th>\n",
       "      <th>Outlet_Size</th>\n",
       "      <th>Outlet_Location_Type</th>\n",
       "      <th>Outlet_Type</th>\n",
       "      <th>Item_Outlet_Sales</th>\n",
       "    </tr>\n",
       "    <tr>\n",
       "      <th>Item_Identifier</th>\n",
       "      <th></th>\n",
       "      <th></th>\n",
       "      <th></th>\n",
       "      <th></th>\n",
       "      <th></th>\n",
       "      <th></th>\n",
       "      <th></th>\n",
       "      <th></th>\n",
       "      <th></th>\n",
       "      <th></th>\n",
       "      <th></th>\n",
       "    </tr>\n",
       "  </thead>\n",
       "  <tbody>\n",
       "    <tr>\n",
       "      <th>FDA15</th>\n",
       "      <td>9.30</td>\n",
       "      <td>Low Fat</td>\n",
       "      <td>0.016047</td>\n",
       "      <td>Dairy</td>\n",
       "      <td>249.8092</td>\n",
       "      <td>OUT049</td>\n",
       "      <td>1999</td>\n",
       "      <td>Medium</td>\n",
       "      <td>Tier 1</td>\n",
       "      <td>Supermarket Type1</td>\n",
       "      <td>3735.1380</td>\n",
       "    </tr>\n",
       "    <tr>\n",
       "      <th>DRC01</th>\n",
       "      <td>5.92</td>\n",
       "      <td>Regular</td>\n",
       "      <td>0.019278</td>\n",
       "      <td>Soft Drinks</td>\n",
       "      <td>48.2692</td>\n",
       "      <td>OUT018</td>\n",
       "      <td>2009</td>\n",
       "      <td>Medium</td>\n",
       "      <td>Tier 3</td>\n",
       "      <td>Supermarket Type2</td>\n",
       "      <td>443.4228</td>\n",
       "    </tr>\n",
       "    <tr>\n",
       "      <th>FDN15</th>\n",
       "      <td>17.50</td>\n",
       "      <td>Low Fat</td>\n",
       "      <td>0.016760</td>\n",
       "      <td>Meat</td>\n",
       "      <td>141.6180</td>\n",
       "      <td>OUT049</td>\n",
       "      <td>1999</td>\n",
       "      <td>Medium</td>\n",
       "      <td>Tier 1</td>\n",
       "      <td>Supermarket Type1</td>\n",
       "      <td>2097.2700</td>\n",
       "    </tr>\n",
       "    <tr>\n",
       "      <th>FDX07</th>\n",
       "      <td>19.20</td>\n",
       "      <td>Regular</td>\n",
       "      <td>0.000000</td>\n",
       "      <td>Fruits and Vegetables</td>\n",
       "      <td>182.0950</td>\n",
       "      <td>OUT010</td>\n",
       "      <td>1998</td>\n",
       "      <td>Medium</td>\n",
       "      <td>Tier 3</td>\n",
       "      <td>Grocery Store</td>\n",
       "      <td>732.3800</td>\n",
       "    </tr>\n",
       "    <tr>\n",
       "      <th>NCD19</th>\n",
       "      <td>8.93</td>\n",
       "      <td>Low Fat</td>\n",
       "      <td>0.000000</td>\n",
       "      <td>Household</td>\n",
       "      <td>53.8614</td>\n",
       "      <td>OUT013</td>\n",
       "      <td>1987</td>\n",
       "      <td>High</td>\n",
       "      <td>Tier 3</td>\n",
       "      <td>Supermarket Type1</td>\n",
       "      <td>994.7052</td>\n",
       "    </tr>\n",
       "  </tbody>\n",
       "</table>\n",
       "</div>"
      ],
      "text/plain": [
       "                 Item_Weight Item_Fat_Content  Item_Visibility  \\\n",
       "Item_Identifier                                                  \n",
       "FDA15                   9.30          Low Fat         0.016047   \n",
       "DRC01                   5.92          Regular         0.019278   \n",
       "FDN15                  17.50          Low Fat         0.016760   \n",
       "FDX07                  19.20          Regular         0.000000   \n",
       "NCD19                   8.93          Low Fat         0.000000   \n",
       "\n",
       "                             Item_Type  Item_MRP Outlet_Identifier  \\\n",
       "Item_Identifier                                                      \n",
       "FDA15                            Dairy  249.8092            OUT049   \n",
       "DRC01                      Soft Drinks   48.2692            OUT018   \n",
       "FDN15                             Meat  141.6180            OUT049   \n",
       "FDX07            Fruits and Vegetables  182.0950            OUT010   \n",
       "NCD19                        Household   53.8614            OUT013   \n",
       "\n",
       "                 Outlet_Establishment_Year Outlet_Size Outlet_Location_Type  \\\n",
       "Item_Identifier                                                               \n",
       "FDA15                                 1999      Medium               Tier 1   \n",
       "DRC01                                 2009      Medium               Tier 3   \n",
       "FDN15                                 1999      Medium               Tier 1   \n",
       "FDX07                                 1998      Medium               Tier 3   \n",
       "NCD19                                 1987        High               Tier 3   \n",
       "\n",
       "                       Outlet_Type  Item_Outlet_Sales  \n",
       "Item_Identifier                                        \n",
       "FDA15            Supermarket Type1          3735.1380  \n",
       "DRC01            Supermarket Type2           443.4228  \n",
       "FDN15            Supermarket Type1          2097.2700  \n",
       "FDX07                Grocery Store           732.3800  \n",
       "NCD19            Supermarket Type1           994.7052  "
      ]
     },
     "execution_count": 43,
     "metadata": {},
     "output_type": "execute_result"
    }
   ],
   "source": [
    "bms.head(5)"
   ]
  },
  {
   "cell_type": "code",
   "execution_count": 44,
   "metadata": {},
   "outputs": [],
   "source": [
    "kategori=[\"Item_Fat_Content\", \"Item_Type\",\"Outlet_Identifier\",\"Outlet_Establishment_Year\",\"Outlet_Size\",\"Outlet_Location_Type\",\"Outlet_Type\"]\n",
    "from sklearn import preprocessing\n",
    "le=preprocessing.LabelEncoder()\n",
    "for feature in kategori:\n",
    "    if feature in bms.columns.values:\n",
    "        bms[feature]=le.fit_transform(bms[feature])"
   ]
  },
  {
   "cell_type": "code",
   "execution_count": 45,
   "metadata": {},
   "outputs": [
    {
     "data": {
      "text/html": [
       "<div>\n",
       "<style scoped>\n",
       "    .dataframe tbody tr th:only-of-type {\n",
       "        vertical-align: middle;\n",
       "    }\n",
       "\n",
       "    .dataframe tbody tr th {\n",
       "        vertical-align: top;\n",
       "    }\n",
       "\n",
       "    .dataframe thead th {\n",
       "        text-align: right;\n",
       "    }\n",
       "</style>\n",
       "<table border=\"1\" class=\"dataframe\">\n",
       "  <thead>\n",
       "    <tr style=\"text-align: right;\">\n",
       "      <th></th>\n",
       "      <th>Item_Weight</th>\n",
       "      <th>Item_Fat_Content</th>\n",
       "      <th>Item_Visibility</th>\n",
       "      <th>Item_Type</th>\n",
       "      <th>Item_MRP</th>\n",
       "      <th>Outlet_Identifier</th>\n",
       "      <th>Outlet_Establishment_Year</th>\n",
       "      <th>Outlet_Size</th>\n",
       "      <th>Outlet_Location_Type</th>\n",
       "      <th>Outlet_Type</th>\n",
       "      <th>Item_Outlet_Sales</th>\n",
       "    </tr>\n",
       "    <tr>\n",
       "      <th>Item_Identifier</th>\n",
       "      <th></th>\n",
       "      <th></th>\n",
       "      <th></th>\n",
       "      <th></th>\n",
       "      <th></th>\n",
       "      <th></th>\n",
       "      <th></th>\n",
       "      <th></th>\n",
       "      <th></th>\n",
       "      <th></th>\n",
       "      <th></th>\n",
       "    </tr>\n",
       "  </thead>\n",
       "  <tbody>\n",
       "    <tr>\n",
       "      <th>FDA15</th>\n",
       "      <td>9.30</td>\n",
       "      <td>0</td>\n",
       "      <td>0.016047</td>\n",
       "      <td>4</td>\n",
       "      <td>249.8092</td>\n",
       "      <td>9</td>\n",
       "      <td>4</td>\n",
       "      <td>1</td>\n",
       "      <td>0</td>\n",
       "      <td>1</td>\n",
       "      <td>3735.1380</td>\n",
       "    </tr>\n",
       "    <tr>\n",
       "      <th>DRC01</th>\n",
       "      <td>5.92</td>\n",
       "      <td>1</td>\n",
       "      <td>0.019278</td>\n",
       "      <td>14</td>\n",
       "      <td>48.2692</td>\n",
       "      <td>3</td>\n",
       "      <td>8</td>\n",
       "      <td>1</td>\n",
       "      <td>2</td>\n",
       "      <td>2</td>\n",
       "      <td>443.4228</td>\n",
       "    </tr>\n",
       "    <tr>\n",
       "      <th>FDN15</th>\n",
       "      <td>17.50</td>\n",
       "      <td>0</td>\n",
       "      <td>0.016760</td>\n",
       "      <td>10</td>\n",
       "      <td>141.6180</td>\n",
       "      <td>9</td>\n",
       "      <td>4</td>\n",
       "      <td>1</td>\n",
       "      <td>0</td>\n",
       "      <td>1</td>\n",
       "      <td>2097.2700</td>\n",
       "    </tr>\n",
       "    <tr>\n",
       "      <th>FDX07</th>\n",
       "      <td>19.20</td>\n",
       "      <td>1</td>\n",
       "      <td>0.000000</td>\n",
       "      <td>6</td>\n",
       "      <td>182.0950</td>\n",
       "      <td>0</td>\n",
       "      <td>3</td>\n",
       "      <td>1</td>\n",
       "      <td>2</td>\n",
       "      <td>0</td>\n",
       "      <td>732.3800</td>\n",
       "    </tr>\n",
       "    <tr>\n",
       "      <th>NCD19</th>\n",
       "      <td>8.93</td>\n",
       "      <td>0</td>\n",
       "      <td>0.000000</td>\n",
       "      <td>9</td>\n",
       "      <td>53.8614</td>\n",
       "      <td>1</td>\n",
       "      <td>1</td>\n",
       "      <td>0</td>\n",
       "      <td>2</td>\n",
       "      <td>1</td>\n",
       "      <td>994.7052</td>\n",
       "    </tr>\n",
       "  </tbody>\n",
       "</table>\n",
       "</div>"
      ],
      "text/plain": [
       "                 Item_Weight  Item_Fat_Content  Item_Visibility  Item_Type  \\\n",
       "Item_Identifier                                                              \n",
       "FDA15                   9.30                 0         0.016047          4   \n",
       "DRC01                   5.92                 1         0.019278         14   \n",
       "FDN15                  17.50                 0         0.016760         10   \n",
       "FDX07                  19.20                 1         0.000000          6   \n",
       "NCD19                   8.93                 0         0.000000          9   \n",
       "\n",
       "                 Item_MRP  Outlet_Identifier  Outlet_Establishment_Year  \\\n",
       "Item_Identifier                                                           \n",
       "FDA15            249.8092                  9                          4   \n",
       "DRC01             48.2692                  3                          8   \n",
       "FDN15            141.6180                  9                          4   \n",
       "FDX07            182.0950                  0                          3   \n",
       "NCD19             53.8614                  1                          1   \n",
       "\n",
       "                 Outlet_Size  Outlet_Location_Type  Outlet_Type  \\\n",
       "Item_Identifier                                                   \n",
       "FDA15                      1                     0            1   \n",
       "DRC01                      1                     2            2   \n",
       "FDN15                      1                     0            1   \n",
       "FDX07                      1                     2            0   \n",
       "NCD19                      0                     2            1   \n",
       "\n",
       "                 Item_Outlet_Sales  \n",
       "Item_Identifier                     \n",
       "FDA15                    3735.1380  \n",
       "DRC01                     443.4228  \n",
       "FDN15                    2097.2700  \n",
       "FDX07                     732.3800  \n",
       "NCD19                     994.7052  "
      ]
     },
     "execution_count": 45,
     "metadata": {},
     "output_type": "execute_result"
    }
   ],
   "source": [
    "bms.head(5)"
   ]
  },
  {
   "cell_type": "code",
   "execution_count": 46,
   "metadata": {},
   "outputs": [
    {
     "data": {
      "text/plain": [
       "Item_Weight                  float64\n",
       "Item_Fat_Content               int32\n",
       "Item_Visibility              float64\n",
       "Item_Type                      int32\n",
       "Item_MRP                     float64\n",
       "Outlet_Identifier              int32\n",
       "Outlet_Establishment_Year      int64\n",
       "Outlet_Size                    int32\n",
       "Outlet_Location_Type           int32\n",
       "Outlet_Type                    int32\n",
       "Item_Outlet_Sales            float64\n",
       "dtype: object"
      ]
     },
     "execution_count": 46,
     "metadata": {},
     "output_type": "execute_result"
    }
   ],
   "source": [
    "bms.dtypes"
   ]
  },
  {
   "cell_type": "markdown",
   "metadata": {},
   "source": [
    "## Principal Component Analysis "
   ]
  },
  {
   "cell_type": "markdown",
   "metadata": {},
   "source": [
    "### Feature Selection"
   ]
  },
  {
   "cell_type": "code",
   "execution_count": 47,
   "metadata": {},
   "outputs": [],
   "source": [
    "from sklearn.preprocessing import StandardScaler\n",
    "from sklearn.decomposition import PCA"
   ]
  },
  {
   "cell_type": "code",
   "execution_count": 48,
   "metadata": {},
   "outputs": [
    {
     "data": {
      "text/plain": [
       "(10, 8523)"
      ]
     },
     "execution_count": 48,
     "metadata": {},
     "output_type": "execute_result"
    }
   ],
   "source": [
    "bmsx=np.array([bms[\"Item_Weight\"],bms[\"Item_Fat_Content\"],bms[\"Item_Visibility\"],bms[\"Item_Type\"],bms['Item_MRP'],bms[\"Outlet_Identifier\"],bms[\"Outlet_Establishment_Year\"],bms[\"Outlet_Size\"],bms[\"Outlet_Location_Type\"],bms[\"Outlet_Type\"]])\n",
    "bmsx.shape"
   ]
  },
  {
   "cell_type": "code",
   "execution_count": 49,
   "metadata": {},
   "outputs": [
    {
     "data": {
      "text/plain": [
       "array([[9.30000000e+00, 5.92000000e+00, 1.75000000e+01, ...,\n",
       "        1.06000000e+01, 7.21000000e+00, 1.48000000e+01],\n",
       "       [0.00000000e+00, 1.00000000e+00, 0.00000000e+00, ...,\n",
       "        0.00000000e+00, 1.00000000e+00, 0.00000000e+00],\n",
       "       [1.60473010e-02, 1.92782160e-02, 1.67600750e-02, ...,\n",
       "        3.51862710e-02, 1.45220646e-01, 4.48782800e-02],\n",
       "       ...,\n",
       "       [1.00000000e+00, 1.00000000e+00, 1.00000000e+00, ...,\n",
       "        2.00000000e+00, 1.00000000e+00, 2.00000000e+00],\n",
       "       [0.00000000e+00, 2.00000000e+00, 0.00000000e+00, ...,\n",
       "        1.00000000e+00, 2.00000000e+00, 0.00000000e+00],\n",
       "       [1.00000000e+00, 2.00000000e+00, 1.00000000e+00, ...,\n",
       "        1.00000000e+00, 2.00000000e+00, 1.00000000e+00]])"
      ]
     },
     "execution_count": 49,
     "metadata": {},
     "output_type": "execute_result"
    }
   ],
   "source": [
    "import numpy as np\n",
    "bmsx"
   ]
  },
  {
   "cell_type": "code",
   "execution_count": 50,
   "metadata": {},
   "outputs": [
    {
     "data": {
      "text/plain": [
       "(8523, 10)"
      ]
     },
     "execution_count": 50,
     "metadata": {},
     "output_type": "execute_result"
    }
   ],
   "source": [
    "bmsxt=bmsx.transpose()\n",
    "bmsxt.shape"
   ]
  },
  {
   "cell_type": "code",
   "execution_count": 51,
   "metadata": {},
   "outputs": [
    {
     "data": {
      "text/plain": [
       "array([[-0.84187169, -0.73814723, -0.97073217, ..., -0.28458121,\n",
       "        -1.36933384, -0.25265831],\n",
       "       [-1.64170589,  1.35474328, -0.90811123, ..., -0.28458121,\n",
       "         1.09156913,  1.00297245],\n",
       "       [ 1.09855449, -0.73814723, -0.95691733, ..., -0.28458121,\n",
       "        -1.36933384, -0.25265831],\n",
       "       ...,\n",
       "       [-0.53424315, -0.73814723, -0.59978449, ...,  1.38127431,\n",
       "        -0.13888236, -0.25265831],\n",
       "       [-1.33644372,  1.35474328,  1.53287976, ..., -0.28458121,\n",
       "         1.09156913,  1.00297245],\n",
       "       [ 0.45963367, -0.73814723, -0.41193591, ...,  1.38127431,\n",
       "        -1.36933384, -0.25265831]])"
      ]
     },
     "execution_count": 51,
     "metadata": {},
     "output_type": "execute_result"
    }
   ],
   "source": [
    "bms_std=StandardScaler().fit_transform(bmsxt)\n",
    "bms_std"
   ]
  },
  {
   "cell_type": "code",
   "execution_count": 52,
   "metadata": {},
   "outputs": [],
   "source": [
    "pcafs=PCA(n_components=0.99,whiten=True)\n",
    "bmsfs_pca=pcafs.fit_transform(bms_std)"
   ]
  },
  {
   "cell_type": "code",
   "execution_count": 53,
   "metadata": {},
   "outputs": [
    {
     "name": "stdout",
     "output_type": "stream",
     "text": [
      "Original number of features: 10\n",
      "Reduced numer of features: 9\n"
     ]
    }
   ],
   "source": [
    "print('Original number of features:', bms_std.shape[1])\n",
    "print('Reduced numer of features:', bmsfs_pca.shape[1])"
   ]
  },
  {
   "cell_type": "code",
   "execution_count": 54,
   "metadata": {},
   "outputs": [
    {
     "data": {
      "text/html": [
       "<div>\n",
       "<style scoped>\n",
       "    .dataframe tbody tr th:only-of-type {\n",
       "        vertical-align: middle;\n",
       "    }\n",
       "\n",
       "    .dataframe tbody tr th {\n",
       "        vertical-align: top;\n",
       "    }\n",
       "\n",
       "    .dataframe thead th {\n",
       "        text-align: right;\n",
       "    }\n",
       "</style>\n",
       "<table border=\"1\" class=\"dataframe\">\n",
       "  <thead>\n",
       "    <tr style=\"text-align: right;\">\n",
       "      <th></th>\n",
       "      <th>PC1</th>\n",
       "      <th>PC2</th>\n",
       "      <th>PC3</th>\n",
       "      <th>PC4</th>\n",
       "      <th>PC5</th>\n",
       "      <th>PC6</th>\n",
       "      <th>PC7</th>\n",
       "      <th>PC8</th>\n",
       "      <th>PC9</th>\n",
       "    </tr>\n",
       "  </thead>\n",
       "  <tbody>\n",
       "    <tr>\n",
       "      <th>0</th>\n",
       "      <td>-0.998487</td>\n",
       "      <td>-0.863773</td>\n",
       "      <td>0.168305</td>\n",
       "      <td>-0.165463</td>\n",
       "      <td>0.730425</td>\n",
       "      <td>1.513058</td>\n",
       "      <td>-1.654028</td>\n",
       "      <td>-0.653892</td>\n",
       "      <td>1.702344</td>\n",
       "    </tr>\n",
       "    <tr>\n",
       "      <th>1</th>\n",
       "      <td>0.939008</td>\n",
       "      <td>-0.889122</td>\n",
       "      <td>0.567608</td>\n",
       "      <td>-1.787902</td>\n",
       "      <td>-1.564239</td>\n",
       "      <td>0.533063</td>\n",
       "      <td>2.534950</td>\n",
       "      <td>-0.204249</td>\n",
       "      <td>-0.498078</td>\n",
       "    </tr>\n",
       "    <tr>\n",
       "      <th>2</th>\n",
       "      <td>-0.980895</td>\n",
       "      <td>-1.185100</td>\n",
       "      <td>-0.852784</td>\n",
       "      <td>0.201730</td>\n",
       "      <td>0.330814</td>\n",
       "      <td>-0.820959</td>\n",
       "      <td>-0.177729</td>\n",
       "      <td>-0.669717</td>\n",
       "      <td>1.706278</td>\n",
       "    </tr>\n",
       "    <tr>\n",
       "      <th>3</th>\n",
       "      <td>0.877411</td>\n",
       "      <td>0.863896</td>\n",
       "      <td>-0.060169</td>\n",
       "      <td>-0.461000</td>\n",
       "      <td>1.727821</td>\n",
       "      <td>-1.009992</td>\n",
       "      <td>0.099287</td>\n",
       "      <td>-2.329205</td>\n",
       "      <td>-1.477966</td>\n",
       "    </tr>\n",
       "    <tr>\n",
       "      <th>4</th>\n",
       "      <td>1.552281</td>\n",
       "      <td>-0.203584</td>\n",
       "      <td>-0.380191</td>\n",
       "      <td>0.352959</td>\n",
       "      <td>-1.934478</td>\n",
       "      <td>-0.060996</td>\n",
       "      <td>-0.369480</td>\n",
       "      <td>-1.934138</td>\n",
       "      <td>0.446966</td>\n",
       "    </tr>\n",
       "    <tr>\n",
       "      <th>5</th>\n",
       "      <td>0.946076</td>\n",
       "      <td>-0.498076</td>\n",
       "      <td>2.328853</td>\n",
       "      <td>-1.939376</td>\n",
       "      <td>-0.639771</td>\n",
       "      <td>-0.857236</td>\n",
       "      <td>-0.061252</td>\n",
       "      <td>-0.113826</td>\n",
       "      <td>-0.602324</td>\n",
       "    </tr>\n",
       "    <tr>\n",
       "      <th>6</th>\n",
       "      <td>1.551318</td>\n",
       "      <td>0.104454</td>\n",
       "      <td>-0.023860</td>\n",
       "      <td>0.508389</td>\n",
       "      <td>-0.731241</td>\n",
       "      <td>-0.750683</td>\n",
       "      <td>1.854093</td>\n",
       "      <td>-2.328975</td>\n",
       "      <td>0.465268</td>\n",
       "    </tr>\n",
       "    <tr>\n",
       "      <th>7</th>\n",
       "      <td>0.882574</td>\n",
       "      <td>-0.909737</td>\n",
       "      <td>-0.446303</td>\n",
       "      <td>2.137101</td>\n",
       "      <td>-0.873867</td>\n",
       "      <td>0.231900</td>\n",
       "      <td>1.063955</td>\n",
       "      <td>1.828681</td>\n",
       "      <td>-0.308733</td>\n",
       "    </tr>\n",
       "    <tr>\n",
       "      <th>8</th>\n",
       "      <td>-0.248100</td>\n",
       "      <td>-0.333737</td>\n",
       "      <td>1.108465</td>\n",
       "      <td>-0.578898</td>\n",
       "      <td>0.415394</td>\n",
       "      <td>-1.249484</td>\n",
       "      <td>0.550499</td>\n",
       "      <td>-0.931232</td>\n",
       "      <td>0.766625</td>\n",
       "    </tr>\n",
       "    <tr>\n",
       "      <th>9</th>\n",
       "      <td>0.310475</td>\n",
       "      <td>0.969304</td>\n",
       "      <td>0.281081</td>\n",
       "      <td>-0.939320</td>\n",
       "      <td>1.935149</td>\n",
       "      <td>-0.923273</td>\n",
       "      <td>0.491172</td>\n",
       "      <td>0.232673</td>\n",
       "      <td>0.224785</td>\n",
       "    </tr>\n",
       "    <tr>\n",
       "      <th>10</th>\n",
       "      <td>-0.978663</td>\n",
       "      <td>-1.064891</td>\n",
       "      <td>0.259120</td>\n",
       "      <td>-0.226401</td>\n",
       "      <td>-1.477080</td>\n",
       "      <td>-0.859082</td>\n",
       "      <td>-0.655405</td>\n",
       "      <td>-0.926936</td>\n",
       "      <td>1.599396</td>\n",
       "    </tr>\n",
       "    <tr>\n",
       "      <th>11</th>\n",
       "      <td>-1.456318</td>\n",
       "      <td>-0.062202</td>\n",
       "      <td>1.099621</td>\n",
       "      <td>0.596865</td>\n",
       "      <td>1.205229</td>\n",
       "      <td>-1.150751</td>\n",
       "      <td>0.286077</td>\n",
       "      <td>-0.583142</td>\n",
       "      <td>-0.609294</td>\n",
       "    </tr>\n",
       "    <tr>\n",
       "      <th>12</th>\n",
       "      <td>-1.028171</td>\n",
       "      <td>0.340523</td>\n",
       "      <td>0.906714</td>\n",
       "      <td>0.269217</td>\n",
       "      <td>0.767895</td>\n",
       "      <td>-0.400365</td>\n",
       "      <td>0.817513</td>\n",
       "      <td>0.053299</td>\n",
       "      <td>2.070202</td>\n",
       "    </tr>\n",
       "    <tr>\n",
       "      <th>13</th>\n",
       "      <td>-1.452506</td>\n",
       "      <td>-0.440991</td>\n",
       "      <td>-0.068362</td>\n",
       "      <td>0.709650</td>\n",
       "      <td>0.595188</td>\n",
       "      <td>-0.856603</td>\n",
       "      <td>1.999954</td>\n",
       "      <td>-0.772343</td>\n",
       "      <td>-0.596987</td>\n",
       "    </tr>\n",
       "    <tr>\n",
       "      <th>14</th>\n",
       "      <td>1.522680</td>\n",
       "      <td>0.511757</td>\n",
       "      <td>-0.774661</td>\n",
       "      <td>0.996389</td>\n",
       "      <td>0.792329</td>\n",
       "      <td>-0.106975</td>\n",
       "      <td>-1.132920</td>\n",
       "      <td>-0.729905</td>\n",
       "      <td>0.817495</td>\n",
       "    </tr>\n",
       "    <tr>\n",
       "      <th>15</th>\n",
       "      <td>-1.477054</td>\n",
       "      <td>0.440770</td>\n",
       "      <td>2.052255</td>\n",
       "      <td>0.246903</td>\n",
       "      <td>-1.048131</td>\n",
       "      <td>-0.263508</td>\n",
       "      <td>0.269142</td>\n",
       "      <td>-0.340581</td>\n",
       "      <td>-0.511640</td>\n",
       "    </tr>\n",
       "    <tr>\n",
       "      <th>16</th>\n",
       "      <td>0.948620</td>\n",
       "      <td>-1.242689</td>\n",
       "      <td>-0.230123</td>\n",
       "      <td>-1.507891</td>\n",
       "      <td>-0.502296</td>\n",
       "      <td>-0.156680</td>\n",
       "      <td>-0.247465</td>\n",
       "      <td>0.431483</td>\n",
       "      <td>-0.487069</td>\n",
       "    </tr>\n",
       "    <tr>\n",
       "      <th>17</th>\n",
       "      <td>-1.020074</td>\n",
       "      <td>0.312154</td>\n",
       "      <td>2.047281</td>\n",
       "      <td>-0.237696</td>\n",
       "      <td>-1.024997</td>\n",
       "      <td>-0.335044</td>\n",
       "      <td>0.273717</td>\n",
       "      <td>-0.417656</td>\n",
       "      <td>1.891776</td>\n",
       "    </tr>\n",
       "    <tr>\n",
       "      <th>18</th>\n",
       "      <td>0.922717</td>\n",
       "      <td>-1.634284</td>\n",
       "      <td>0.516479</td>\n",
       "      <td>1.600724</td>\n",
       "      <td>-0.637592</td>\n",
       "      <td>-0.080108</td>\n",
       "      <td>-0.360408</td>\n",
       "      <td>0.579354</td>\n",
       "      <td>-0.788532</td>\n",
       "    </tr>\n",
       "    <tr>\n",
       "      <th>19</th>\n",
       "      <td>-0.753251</td>\n",
       "      <td>0.246755</td>\n",
       "      <td>-0.297990</td>\n",
       "      <td>-0.559612</td>\n",
       "      <td>1.079026</td>\n",
       "      <td>0.630436</td>\n",
       "      <td>-1.158604</td>\n",
       "      <td>1.388264</td>\n",
       "      <td>-0.844776</td>\n",
       "    </tr>\n",
       "    <tr>\n",
       "      <th>20</th>\n",
       "      <td>1.491660</td>\n",
       "      <td>1.300256</td>\n",
       "      <td>-0.924554</td>\n",
       "      <td>1.413981</td>\n",
       "      <td>2.239617</td>\n",
       "      <td>0.302278</td>\n",
       "      <td>1.654195</td>\n",
       "      <td>-0.365301</td>\n",
       "      <td>1.135057</td>\n",
       "    </tr>\n",
       "    <tr>\n",
       "      <th>21</th>\n",
       "      <td>0.914174</td>\n",
       "      <td>-0.892732</td>\n",
       "      <td>2.623027</td>\n",
       "      <td>1.342969</td>\n",
       "      <td>0.540146</td>\n",
       "      <td>-0.076016</td>\n",
       "      <td>-0.274071</td>\n",
       "      <td>0.190286</td>\n",
       "      <td>-0.839825</td>\n",
       "    </tr>\n",
       "    <tr>\n",
       "      <th>22</th>\n",
       "      <td>-0.711736</td>\n",
       "      <td>-0.811516</td>\n",
       "      <td>-0.882397</td>\n",
       "      <td>-0.804173</td>\n",
       "      <td>0.746840</td>\n",
       "      <td>0.164472</td>\n",
       "      <td>-0.399502</td>\n",
       "      <td>0.152381</td>\n",
       "      <td>-1.235480</td>\n",
       "    </tr>\n",
       "    <tr>\n",
       "      <th>23</th>\n",
       "      <td>-1.208185</td>\n",
       "      <td>1.113017</td>\n",
       "      <td>0.285461</td>\n",
       "      <td>0.692844</td>\n",
       "      <td>-0.623790</td>\n",
       "      <td>-0.598878</td>\n",
       "      <td>-2.033544</td>\n",
       "      <td>-1.043623</td>\n",
       "      <td>-1.483304</td>\n",
       "    </tr>\n",
       "    <tr>\n",
       "      <th>24</th>\n",
       "      <td>-1.453376</td>\n",
       "      <td>-0.272767</td>\n",
       "      <td>1.179216</td>\n",
       "      <td>0.350741</td>\n",
       "      <td>0.850649</td>\n",
       "      <td>-0.066521</td>\n",
       "      <td>0.315246</td>\n",
       "      <td>-0.961328</td>\n",
       "      <td>-0.710818</td>\n",
       "    </tr>\n",
       "    <tr>\n",
       "      <th>25</th>\n",
       "      <td>0.310807</td>\n",
       "      <td>0.565183</td>\n",
       "      <td>-0.826545</td>\n",
       "      <td>-1.011353</td>\n",
       "      <td>-1.323660</td>\n",
       "      <td>-0.940501</td>\n",
       "      <td>0.235551</td>\n",
       "      <td>0.679521</td>\n",
       "      <td>0.286825</td>\n",
       "    </tr>\n",
       "    <tr>\n",
       "      <th>26</th>\n",
       "      <td>-0.734517</td>\n",
       "      <td>0.014804</td>\n",
       "      <td>0.417101</td>\n",
       "      <td>-1.069550</td>\n",
       "      <td>-1.484008</td>\n",
       "      <td>0.180090</td>\n",
       "      <td>2.413317</td>\n",
       "      <td>-0.017125</td>\n",
       "      <td>-1.105423</td>\n",
       "    </tr>\n",
       "    <tr>\n",
       "      <th>27</th>\n",
       "      <td>1.546202</td>\n",
       "      <td>0.071868</td>\n",
       "      <td>-0.232081</td>\n",
       "      <td>0.508293</td>\n",
       "      <td>-1.730132</td>\n",
       "      <td>-0.764918</td>\n",
       "      <td>-0.607059</td>\n",
       "      <td>-1.564607</td>\n",
       "      <td>0.545273</td>\n",
       "    </tr>\n",
       "    <tr>\n",
       "      <th>28</th>\n",
       "      <td>0.789369</td>\n",
       "      <td>2.916904</td>\n",
       "      <td>1.013964</td>\n",
       "      <td>-0.342694</td>\n",
       "      <td>-1.661290</td>\n",
       "      <td>0.301369</td>\n",
       "      <td>0.707166</td>\n",
       "      <td>-0.104435</td>\n",
       "      <td>-0.687201</td>\n",
       "    </tr>\n",
       "    <tr>\n",
       "      <th>29</th>\n",
       "      <td>-1.213908</td>\n",
       "      <td>1.577028</td>\n",
       "      <td>1.186731</td>\n",
       "      <td>0.614206</td>\n",
       "      <td>-0.831639</td>\n",
       "      <td>-1.094223</td>\n",
       "      <td>0.227968</td>\n",
       "      <td>-1.466662</td>\n",
       "      <td>-1.469580</td>\n",
       "    </tr>\n",
       "    <tr>\n",
       "      <th>...</th>\n",
       "      <td>...</td>\n",
       "      <td>...</td>\n",
       "      <td>...</td>\n",
       "      <td>...</td>\n",
       "      <td>...</td>\n",
       "      <td>...</td>\n",
       "      <td>...</td>\n",
       "      <td>...</td>\n",
       "      <td>...</td>\n",
       "    </tr>\n",
       "    <tr>\n",
       "      <th>8493</th>\n",
       "      <td>0.331777</td>\n",
       "      <td>0.000416</td>\n",
       "      <td>-0.140819</td>\n",
       "      <td>-1.588200</td>\n",
       "      <td>0.296270</td>\n",
       "      <td>1.519416</td>\n",
       "      <td>1.661970</td>\n",
       "      <td>-1.135100</td>\n",
       "      <td>-0.131375</td>\n",
       "    </tr>\n",
       "    <tr>\n",
       "      <th>8494</th>\n",
       "      <td>0.357746</td>\n",
       "      <td>-0.565159</td>\n",
       "      <td>-0.955421</td>\n",
       "      <td>-1.354869</td>\n",
       "      <td>-0.213256</td>\n",
       "      <td>-0.867188</td>\n",
       "      <td>-0.316652</td>\n",
       "      <td>-0.760845</td>\n",
       "      <td>-0.212396</td>\n",
       "    </tr>\n",
       "    <tr>\n",
       "      <th>8495</th>\n",
       "      <td>-0.716216</td>\n",
       "      <td>-0.880703</td>\n",
       "      <td>-1.111118</td>\n",
       "      <td>-0.932287</td>\n",
       "      <td>-0.409548</td>\n",
       "      <td>0.900695</td>\n",
       "      <td>0.442827</td>\n",
       "      <td>0.043942</td>\n",
       "      <td>-1.222389</td>\n",
       "    </tr>\n",
       "    <tr>\n",
       "      <th>8496</th>\n",
       "      <td>0.333351</td>\n",
       "      <td>0.003850</td>\n",
       "      <td>0.015129</td>\n",
       "      <td>-1.627190</td>\n",
       "      <td>0.273083</td>\n",
       "      <td>1.437179</td>\n",
       "      <td>1.479432</td>\n",
       "      <td>-1.175645</td>\n",
       "      <td>-0.154031</td>\n",
       "    </tr>\n",
       "    <tr>\n",
       "      <th>8497</th>\n",
       "      <td>-0.723708</td>\n",
       "      <td>-0.385578</td>\n",
       "      <td>-0.332344</td>\n",
       "      <td>-0.809980</td>\n",
       "      <td>0.113769</td>\n",
       "      <td>-0.191919</td>\n",
       "      <td>-0.709004</td>\n",
       "      <td>0.547193</td>\n",
       "      <td>-1.124732</td>\n",
       "    </tr>\n",
       "    <tr>\n",
       "      <th>8498</th>\n",
       "      <td>0.940829</td>\n",
       "      <td>-1.049609</td>\n",
       "      <td>-0.615392</td>\n",
       "      <td>-1.220047</td>\n",
       "      <td>0.032306</td>\n",
       "      <td>-0.656396</td>\n",
       "      <td>0.005434</td>\n",
       "      <td>0.858992</td>\n",
       "      <td>-0.345029</td>\n",
       "    </tr>\n",
       "    <tr>\n",
       "      <th>8499</th>\n",
       "      <td>-0.717829</td>\n",
       "      <td>-0.556022</td>\n",
       "      <td>-0.373543</td>\n",
       "      <td>-0.940315</td>\n",
       "      <td>-0.797403</td>\n",
       "      <td>-0.224827</td>\n",
       "      <td>-0.226041</td>\n",
       "      <td>0.293311</td>\n",
       "      <td>-1.190961</td>\n",
       "    </tr>\n",
       "    <tr>\n",
       "      <th>8500</th>\n",
       "      <td>0.363718</td>\n",
       "      <td>-0.634223</td>\n",
       "      <td>-1.259047</td>\n",
       "      <td>-1.142845</td>\n",
       "      <td>0.625580</td>\n",
       "      <td>-1.689886</td>\n",
       "      <td>-0.349594</td>\n",
       "      <td>-0.682827</td>\n",
       "      <td>-0.204941</td>\n",
       "    </tr>\n",
       "    <tr>\n",
       "      <th>8501</th>\n",
       "      <td>0.341934</td>\n",
       "      <td>-0.146966</td>\n",
       "      <td>0.204551</td>\n",
       "      <td>-1.815183</td>\n",
       "      <td>-1.044312</td>\n",
       "      <td>1.029155</td>\n",
       "      <td>1.884299</td>\n",
       "      <td>-1.472829</td>\n",
       "      <td>-0.246162</td>\n",
       "    </tr>\n",
       "    <tr>\n",
       "      <th>8502</th>\n",
       "      <td>-0.282815</td>\n",
       "      <td>-0.318025</td>\n",
       "      <td>-0.599891</td>\n",
       "      <td>-0.333725</td>\n",
       "      <td>0.121241</td>\n",
       "      <td>1.605354</td>\n",
       "      <td>-0.418354</td>\n",
       "      <td>0.248360</td>\n",
       "      <td>1.107343</td>\n",
       "    </tr>\n",
       "    <tr>\n",
       "      <th>8503</th>\n",
       "      <td>-0.707703</td>\n",
       "      <td>-0.595045</td>\n",
       "      <td>-0.601781</td>\n",
       "      <td>-0.617929</td>\n",
       "      <td>0.633086</td>\n",
       "      <td>-1.777958</td>\n",
       "      <td>-0.632476</td>\n",
       "      <td>0.450335</td>\n",
       "      <td>-1.187669</td>\n",
       "    </tr>\n",
       "    <tr>\n",
       "      <th>8504</th>\n",
       "      <td>0.881840</td>\n",
       "      <td>-0.760899</td>\n",
       "      <td>0.113427</td>\n",
       "      <td>2.055173</td>\n",
       "      <td>-0.736668</td>\n",
       "      <td>0.106586</td>\n",
       "      <td>0.315169</td>\n",
       "      <td>1.867934</td>\n",
       "      <td>-0.328566</td>\n",
       "    </tr>\n",
       "    <tr>\n",
       "      <th>8505</th>\n",
       "      <td>0.902880</td>\n",
       "      <td>-0.168588</td>\n",
       "      <td>-0.017296</td>\n",
       "      <td>-1.178754</td>\n",
       "      <td>0.995863</td>\n",
       "      <td>1.299203</td>\n",
       "      <td>2.081141</td>\n",
       "      <td>1.017996</td>\n",
       "      <td>-0.091659</td>\n",
       "    </tr>\n",
       "    <tr>\n",
       "      <th>8506</th>\n",
       "      <td>0.917370</td>\n",
       "      <td>-0.839699</td>\n",
       "      <td>-1.815331</td>\n",
       "      <td>-0.747348</td>\n",
       "      <td>1.836872</td>\n",
       "      <td>0.585414</td>\n",
       "      <td>0.621692</td>\n",
       "      <td>1.527625</td>\n",
       "      <td>-0.069760</td>\n",
       "    </tr>\n",
       "    <tr>\n",
       "      <th>8507</th>\n",
       "      <td>-0.726367</td>\n",
       "      <td>-0.009750</td>\n",
       "      <td>1.548534</td>\n",
       "      <td>-1.412504</td>\n",
       "      <td>-0.795536</td>\n",
       "      <td>0.714152</td>\n",
       "      <td>0.635691</td>\n",
       "      <td>-0.398721</td>\n",
       "      <td>-1.292322</td>\n",
       "    </tr>\n",
       "    <tr>\n",
       "      <th>8508</th>\n",
       "      <td>-0.270197</td>\n",
       "      <td>-0.084006</td>\n",
       "      <td>0.942353</td>\n",
       "      <td>-0.569364</td>\n",
       "      <td>1.011181</td>\n",
       "      <td>0.718429</td>\n",
       "      <td>0.464207</td>\n",
       "      <td>-0.617156</td>\n",
       "      <td>0.910375</td>\n",
       "    </tr>\n",
       "    <tr>\n",
       "      <th>8509</th>\n",
       "      <td>0.764862</td>\n",
       "      <td>2.870167</td>\n",
       "      <td>-1.046125</td>\n",
       "      <td>0.284532</td>\n",
       "      <td>-0.037919</td>\n",
       "      <td>1.683263</td>\n",
       "      <td>-0.760565</td>\n",
       "      <td>1.255451</td>\n",
       "      <td>-0.337147</td>\n",
       "    </tr>\n",
       "    <tr>\n",
       "      <th>8510</th>\n",
       "      <td>-0.729569</td>\n",
       "      <td>-0.253291</td>\n",
       "      <td>-0.336958</td>\n",
       "      <td>-0.762340</td>\n",
       "      <td>1.616822</td>\n",
       "      <td>0.833255</td>\n",
       "      <td>1.765182</td>\n",
       "      <td>-0.046459</td>\n",
       "      <td>-1.125325</td>\n",
       "    </tr>\n",
       "    <tr>\n",
       "      <th>8511</th>\n",
       "      <td>0.939851</td>\n",
       "      <td>-1.042327</td>\n",
       "      <td>-0.477008</td>\n",
       "      <td>-1.162291</td>\n",
       "      <td>2.081318</td>\n",
       "      <td>0.096668</td>\n",
       "      <td>-1.202319</td>\n",
       "      <td>0.874661</td>\n",
       "      <td>-0.371121</td>\n",
       "    </tr>\n",
       "    <tr>\n",
       "      <th>8512</th>\n",
       "      <td>1.539648</td>\n",
       "      <td>0.289891</td>\n",
       "      <td>-0.641989</td>\n",
       "      <td>1.005286</td>\n",
       "      <td>1.182415</td>\n",
       "      <td>-1.208945</td>\n",
       "      <td>-1.507036</td>\n",
       "      <td>-0.997999</td>\n",
       "      <td>0.689703</td>\n",
       "    </tr>\n",
       "    <tr>\n",
       "      <th>8513</th>\n",
       "      <td>-0.711226</td>\n",
       "      <td>-0.422053</td>\n",
       "      <td>0.541296</td>\n",
       "      <td>-1.132229</td>\n",
       "      <td>-0.139376</td>\n",
       "      <td>-0.263681</td>\n",
       "      <td>1.532383</td>\n",
       "      <td>-0.565176</td>\n",
       "      <td>-1.332061</td>\n",
       "    </tr>\n",
       "    <tr>\n",
       "      <th>8514</th>\n",
       "      <td>-0.266814</td>\n",
       "      <td>0.198821</td>\n",
       "      <td>1.493889</td>\n",
       "      <td>-0.506359</td>\n",
       "      <td>-0.190521</td>\n",
       "      <td>-1.431542</td>\n",
       "      <td>0.446397</td>\n",
       "      <td>-0.349317</td>\n",
       "      <td>0.951697</td>\n",
       "    </tr>\n",
       "    <tr>\n",
       "      <th>8515</th>\n",
       "      <td>0.947942</td>\n",
       "      <td>-0.857349</td>\n",
       "      <td>0.316619</td>\n",
       "      <td>-1.208178</td>\n",
       "      <td>1.321380</td>\n",
       "      <td>-1.717601</td>\n",
       "      <td>-1.764114</td>\n",
       "      <td>0.937335</td>\n",
       "      <td>-0.412541</td>\n",
       "    </tr>\n",
       "    <tr>\n",
       "      <th>8516</th>\n",
       "      <td>0.909667</td>\n",
       "      <td>-0.255523</td>\n",
       "      <td>-1.027705</td>\n",
       "      <td>-0.705041</td>\n",
       "      <td>-0.431569</td>\n",
       "      <td>-1.704167</td>\n",
       "      <td>0.884133</td>\n",
       "      <td>2.090369</td>\n",
       "      <td>0.077309</td>\n",
       "    </tr>\n",
       "    <tr>\n",
       "      <th>8517</th>\n",
       "      <td>-1.472120</td>\n",
       "      <td>0.257769</td>\n",
       "      <td>0.706322</td>\n",
       "      <td>0.901799</td>\n",
       "      <td>1.879486</td>\n",
       "      <td>-1.146771</td>\n",
       "      <td>0.488811</td>\n",
       "      <td>-0.001599</td>\n",
       "      <td>-0.407103</td>\n",
       "    </tr>\n",
       "    <tr>\n",
       "      <th>8518</th>\n",
       "      <td>1.518910</td>\n",
       "      <td>0.170239</td>\n",
       "      <td>-1.294073</td>\n",
       "      <td>0.699353</td>\n",
       "      <td>-0.350415</td>\n",
       "      <td>2.104738</td>\n",
       "      <td>0.004940</td>\n",
       "      <td>-1.189159</td>\n",
       "      <td>0.757601</td>\n",
       "    </tr>\n",
       "    <tr>\n",
       "      <th>8519</th>\n",
       "      <td>-0.275335</td>\n",
       "      <td>0.314726</td>\n",
       "      <td>2.154293</td>\n",
       "      <td>-0.825078</td>\n",
       "      <td>-0.353703</td>\n",
       "      <td>0.163423</td>\n",
       "      <td>-0.312406</td>\n",
       "      <td>-0.485135</td>\n",
       "      <td>0.910057</td>\n",
       "    </tr>\n",
       "    <tr>\n",
       "      <th>8520</th>\n",
       "      <td>-0.717397</td>\n",
       "      <td>-0.562685</td>\n",
       "      <td>-0.282923</td>\n",
       "      <td>-0.999670</td>\n",
       "      <td>-1.106021</td>\n",
       "      <td>-0.183892</td>\n",
       "      <td>-0.187558</td>\n",
       "      <td>0.241115</td>\n",
       "      <td>-1.206088</td>\n",
       "    </tr>\n",
       "    <tr>\n",
       "      <th>8521</th>\n",
       "      <td>0.879074</td>\n",
       "      <td>0.470274</td>\n",
       "      <td>0.337689</td>\n",
       "      <td>-1.132075</td>\n",
       "      <td>-0.759814</td>\n",
       "      <td>0.949624</td>\n",
       "      <td>2.606677</td>\n",
       "      <td>1.712418</td>\n",
       "      <td>0.151955</td>\n",
       "    </tr>\n",
       "    <tr>\n",
       "      <th>8522</th>\n",
       "      <td>-1.449665</td>\n",
       "      <td>-0.875558</td>\n",
       "      <td>-1.149698</td>\n",
       "      <td>0.740770</td>\n",
       "      <td>-0.968018</td>\n",
       "      <td>-0.701460</td>\n",
       "      <td>0.858159</td>\n",
       "      <td>-0.311607</td>\n",
       "      <td>-0.561357</td>\n",
       "    </tr>\n",
       "  </tbody>\n",
       "</table>\n",
       "<p>8523 rows × 9 columns</p>\n",
       "</div>"
      ],
      "text/plain": [
       "           PC1       PC2       PC3       PC4       PC5       PC6       PC7  \\\n",
       "0    -0.998487 -0.863773  0.168305 -0.165463  0.730425  1.513058 -1.654028   \n",
       "1     0.939008 -0.889122  0.567608 -1.787902 -1.564239  0.533063  2.534950   \n",
       "2    -0.980895 -1.185100 -0.852784  0.201730  0.330814 -0.820959 -0.177729   \n",
       "3     0.877411  0.863896 -0.060169 -0.461000  1.727821 -1.009992  0.099287   \n",
       "4     1.552281 -0.203584 -0.380191  0.352959 -1.934478 -0.060996 -0.369480   \n",
       "5     0.946076 -0.498076  2.328853 -1.939376 -0.639771 -0.857236 -0.061252   \n",
       "6     1.551318  0.104454 -0.023860  0.508389 -0.731241 -0.750683  1.854093   \n",
       "7     0.882574 -0.909737 -0.446303  2.137101 -0.873867  0.231900  1.063955   \n",
       "8    -0.248100 -0.333737  1.108465 -0.578898  0.415394 -1.249484  0.550499   \n",
       "9     0.310475  0.969304  0.281081 -0.939320  1.935149 -0.923273  0.491172   \n",
       "10   -0.978663 -1.064891  0.259120 -0.226401 -1.477080 -0.859082 -0.655405   \n",
       "11   -1.456318 -0.062202  1.099621  0.596865  1.205229 -1.150751  0.286077   \n",
       "12   -1.028171  0.340523  0.906714  0.269217  0.767895 -0.400365  0.817513   \n",
       "13   -1.452506 -0.440991 -0.068362  0.709650  0.595188 -0.856603  1.999954   \n",
       "14    1.522680  0.511757 -0.774661  0.996389  0.792329 -0.106975 -1.132920   \n",
       "15   -1.477054  0.440770  2.052255  0.246903 -1.048131 -0.263508  0.269142   \n",
       "16    0.948620 -1.242689 -0.230123 -1.507891 -0.502296 -0.156680 -0.247465   \n",
       "17   -1.020074  0.312154  2.047281 -0.237696 -1.024997 -0.335044  0.273717   \n",
       "18    0.922717 -1.634284  0.516479  1.600724 -0.637592 -0.080108 -0.360408   \n",
       "19   -0.753251  0.246755 -0.297990 -0.559612  1.079026  0.630436 -1.158604   \n",
       "20    1.491660  1.300256 -0.924554  1.413981  2.239617  0.302278  1.654195   \n",
       "21    0.914174 -0.892732  2.623027  1.342969  0.540146 -0.076016 -0.274071   \n",
       "22   -0.711736 -0.811516 -0.882397 -0.804173  0.746840  0.164472 -0.399502   \n",
       "23   -1.208185  1.113017  0.285461  0.692844 -0.623790 -0.598878 -2.033544   \n",
       "24   -1.453376 -0.272767  1.179216  0.350741  0.850649 -0.066521  0.315246   \n",
       "25    0.310807  0.565183 -0.826545 -1.011353 -1.323660 -0.940501  0.235551   \n",
       "26   -0.734517  0.014804  0.417101 -1.069550 -1.484008  0.180090  2.413317   \n",
       "27    1.546202  0.071868 -0.232081  0.508293 -1.730132 -0.764918 -0.607059   \n",
       "28    0.789369  2.916904  1.013964 -0.342694 -1.661290  0.301369  0.707166   \n",
       "29   -1.213908  1.577028  1.186731  0.614206 -0.831639 -1.094223  0.227968   \n",
       "...        ...       ...       ...       ...       ...       ...       ...   \n",
       "8493  0.331777  0.000416 -0.140819 -1.588200  0.296270  1.519416  1.661970   \n",
       "8494  0.357746 -0.565159 -0.955421 -1.354869 -0.213256 -0.867188 -0.316652   \n",
       "8495 -0.716216 -0.880703 -1.111118 -0.932287 -0.409548  0.900695  0.442827   \n",
       "8496  0.333351  0.003850  0.015129 -1.627190  0.273083  1.437179  1.479432   \n",
       "8497 -0.723708 -0.385578 -0.332344 -0.809980  0.113769 -0.191919 -0.709004   \n",
       "8498  0.940829 -1.049609 -0.615392 -1.220047  0.032306 -0.656396  0.005434   \n",
       "8499 -0.717829 -0.556022 -0.373543 -0.940315 -0.797403 -0.224827 -0.226041   \n",
       "8500  0.363718 -0.634223 -1.259047 -1.142845  0.625580 -1.689886 -0.349594   \n",
       "8501  0.341934 -0.146966  0.204551 -1.815183 -1.044312  1.029155  1.884299   \n",
       "8502 -0.282815 -0.318025 -0.599891 -0.333725  0.121241  1.605354 -0.418354   \n",
       "8503 -0.707703 -0.595045 -0.601781 -0.617929  0.633086 -1.777958 -0.632476   \n",
       "8504  0.881840 -0.760899  0.113427  2.055173 -0.736668  0.106586  0.315169   \n",
       "8505  0.902880 -0.168588 -0.017296 -1.178754  0.995863  1.299203  2.081141   \n",
       "8506  0.917370 -0.839699 -1.815331 -0.747348  1.836872  0.585414  0.621692   \n",
       "8507 -0.726367 -0.009750  1.548534 -1.412504 -0.795536  0.714152  0.635691   \n",
       "8508 -0.270197 -0.084006  0.942353 -0.569364  1.011181  0.718429  0.464207   \n",
       "8509  0.764862  2.870167 -1.046125  0.284532 -0.037919  1.683263 -0.760565   \n",
       "8510 -0.729569 -0.253291 -0.336958 -0.762340  1.616822  0.833255  1.765182   \n",
       "8511  0.939851 -1.042327 -0.477008 -1.162291  2.081318  0.096668 -1.202319   \n",
       "8512  1.539648  0.289891 -0.641989  1.005286  1.182415 -1.208945 -1.507036   \n",
       "8513 -0.711226 -0.422053  0.541296 -1.132229 -0.139376 -0.263681  1.532383   \n",
       "8514 -0.266814  0.198821  1.493889 -0.506359 -0.190521 -1.431542  0.446397   \n",
       "8515  0.947942 -0.857349  0.316619 -1.208178  1.321380 -1.717601 -1.764114   \n",
       "8516  0.909667 -0.255523 -1.027705 -0.705041 -0.431569 -1.704167  0.884133   \n",
       "8517 -1.472120  0.257769  0.706322  0.901799  1.879486 -1.146771  0.488811   \n",
       "8518  1.518910  0.170239 -1.294073  0.699353 -0.350415  2.104738  0.004940   \n",
       "8519 -0.275335  0.314726  2.154293 -0.825078 -0.353703  0.163423 -0.312406   \n",
       "8520 -0.717397 -0.562685 -0.282923 -0.999670 -1.106021 -0.183892 -0.187558   \n",
       "8521  0.879074  0.470274  0.337689 -1.132075 -0.759814  0.949624  2.606677   \n",
       "8522 -1.449665 -0.875558 -1.149698  0.740770 -0.968018 -0.701460  0.858159   \n",
       "\n",
       "           PC8       PC9  \n",
       "0    -0.653892  1.702344  \n",
       "1    -0.204249 -0.498078  \n",
       "2    -0.669717  1.706278  \n",
       "3    -2.329205 -1.477966  \n",
       "4    -1.934138  0.446966  \n",
       "5    -0.113826 -0.602324  \n",
       "6    -2.328975  0.465268  \n",
       "7     1.828681 -0.308733  \n",
       "8    -0.931232  0.766625  \n",
       "9     0.232673  0.224785  \n",
       "10   -0.926936  1.599396  \n",
       "11   -0.583142 -0.609294  \n",
       "12    0.053299  2.070202  \n",
       "13   -0.772343 -0.596987  \n",
       "14   -0.729905  0.817495  \n",
       "15   -0.340581 -0.511640  \n",
       "16    0.431483 -0.487069  \n",
       "17   -0.417656  1.891776  \n",
       "18    0.579354 -0.788532  \n",
       "19    1.388264 -0.844776  \n",
       "20   -0.365301  1.135057  \n",
       "21    0.190286 -0.839825  \n",
       "22    0.152381 -1.235480  \n",
       "23   -1.043623 -1.483304  \n",
       "24   -0.961328 -0.710818  \n",
       "25    0.679521  0.286825  \n",
       "26   -0.017125 -1.105423  \n",
       "27   -1.564607  0.545273  \n",
       "28   -0.104435 -0.687201  \n",
       "29   -1.466662 -1.469580  \n",
       "...        ...       ...  \n",
       "8493 -1.135100 -0.131375  \n",
       "8494 -0.760845 -0.212396  \n",
       "8495  0.043942 -1.222389  \n",
       "8496 -1.175645 -0.154031  \n",
       "8497  0.547193 -1.124732  \n",
       "8498  0.858992 -0.345029  \n",
       "8499  0.293311 -1.190961  \n",
       "8500 -0.682827 -0.204941  \n",
       "8501 -1.472829 -0.246162  \n",
       "8502  0.248360  1.107343  \n",
       "8503  0.450335 -1.187669  \n",
       "8504  1.867934 -0.328566  \n",
       "8505  1.017996 -0.091659  \n",
       "8506  1.527625 -0.069760  \n",
       "8507 -0.398721 -1.292322  \n",
       "8508 -0.617156  0.910375  \n",
       "8509  1.255451 -0.337147  \n",
       "8510 -0.046459 -1.125325  \n",
       "8511  0.874661 -0.371121  \n",
       "8512 -0.997999  0.689703  \n",
       "8513 -0.565176 -1.332061  \n",
       "8514 -0.349317  0.951697  \n",
       "8515  0.937335 -0.412541  \n",
       "8516  2.090369  0.077309  \n",
       "8517 -0.001599 -0.407103  \n",
       "8518 -1.189159  0.757601  \n",
       "8519 -0.485135  0.910057  \n",
       "8520  0.241115 -1.206088  \n",
       "8521  1.712418  0.151955  \n",
       "8522 -0.311607 -0.561357  \n",
       "\n",
       "[8523 rows x 9 columns]"
      ]
     },
     "execution_count": 54,
     "metadata": {},
     "output_type": "execute_result"
    }
   ],
   "source": [
    "datafs_pca=pd.DataFrame(bmsfs_pca, columns=[\"PC1\",\"PC2\",\"PC3\",\"PC4\",\"PC5\",\"PC6\",\"PC7\",\"PC8\",\"PC9\"])\n",
    "datafs_pca"
   ]
  },
  {
   "cell_type": "markdown",
   "metadata": {},
   "source": [
    "> After performing principal component analysis using the feature selection method, it was found that from the beginning there were 10 predictor variables then reduced to 9 predictor variables."
   ]
  },
  {
   "cell_type": "markdown",
   "metadata": {},
   "source": [
    "### Feature Extraction"
   ]
  },
  {
   "cell_type": "code",
   "execution_count": 64,
   "metadata": {},
   "outputs": [],
   "source": [
    "from sklearn import decomposition"
   ]
  },
  {
   "cell_type": "code",
   "execution_count": 65,
   "metadata": {},
   "outputs": [],
   "source": [
    "pcafe=decomposition.PCA(n_components=2)\n",
    "bmsfe_pca=pcafe.fit_transform(bms_std)"
   ]
  },
  {
   "cell_type": "code",
   "execution_count": 66,
   "metadata": {},
   "outputs": [
    {
     "name": "stdout",
     "output_type": "stream",
     "text": [
      "Original number of features: 10\n",
      "Reduced numer of features: 2\n"
     ]
    }
   ],
   "source": [
    "print('Original number of features:', bms_std.shape[1])\n",
    "print('Reduced numer of features:', bmsfe_pca.shape[1])"
   ]
  },
  {
   "cell_type": "code",
   "execution_count": 67,
   "metadata": {},
   "outputs": [
    {
     "data": {
      "text/html": [
       "<div>\n",
       "<style scoped>\n",
       "    .dataframe tbody tr th:only-of-type {\n",
       "        vertical-align: middle;\n",
       "    }\n",
       "\n",
       "    .dataframe tbody tr th {\n",
       "        vertical-align: top;\n",
       "    }\n",
       "\n",
       "    .dataframe thead th {\n",
       "        text-align: right;\n",
       "    }\n",
       "</style>\n",
       "<table border=\"1\" class=\"dataframe\">\n",
       "  <thead>\n",
       "    <tr style=\"text-align: right;\">\n",
       "      <th></th>\n",
       "      <th>PC1</th>\n",
       "      <th>PC2</th>\n",
       "    </tr>\n",
       "  </thead>\n",
       "  <tbody>\n",
       "    <tr>\n",
       "      <th>0</th>\n",
       "      <td>-1.521047</td>\n",
       "      <td>-0.972114</td>\n",
       "    </tr>\n",
       "    <tr>\n",
       "      <th>1</th>\n",
       "      <td>1.430439</td>\n",
       "      <td>-1.000643</td>\n",
       "    </tr>\n",
       "    <tr>\n",
       "      <th>2</th>\n",
       "      <td>-1.494247</td>\n",
       "      <td>-1.333745</td>\n",
       "    </tr>\n",
       "    <tr>\n",
       "      <th>3</th>\n",
       "      <td>1.336605</td>\n",
       "      <td>0.972253</td>\n",
       "    </tr>\n",
       "    <tr>\n",
       "      <th>4</th>\n",
       "      <td>2.364669</td>\n",
       "      <td>-0.229120</td>\n",
       "    </tr>\n",
       "    <tr>\n",
       "      <th>5</th>\n",
       "      <td>1.441206</td>\n",
       "      <td>-0.560549</td>\n",
       "    </tr>\n",
       "    <tr>\n",
       "      <th>6</th>\n",
       "      <td>2.363203</td>\n",
       "      <td>0.117556</td>\n",
       "    </tr>\n",
       "    <tr>\n",
       "      <th>7</th>\n",
       "      <td>1.344470</td>\n",
       "      <td>-1.023844</td>\n",
       "    </tr>\n",
       "    <tr>\n",
       "      <th>8</th>\n",
       "      <td>-0.377943</td>\n",
       "      <td>-0.375597</td>\n",
       "    </tr>\n",
       "    <tr>\n",
       "      <th>9</th>\n",
       "      <td>0.472962</td>\n",
       "      <td>1.090882</td>\n",
       "    </tr>\n",
       "    <tr>\n",
       "      <th>10</th>\n",
       "      <td>-1.490847</td>\n",
       "      <td>-1.198459</td>\n",
       "    </tr>\n",
       "    <tr>\n",
       "      <th>11</th>\n",
       "      <td>-2.218484</td>\n",
       "      <td>-0.070004</td>\n",
       "    </tr>\n",
       "    <tr>\n",
       "      <th>12</th>\n",
       "      <td>-1.566266</td>\n",
       "      <td>0.383234</td>\n",
       "    </tr>\n",
       "    <tr>\n",
       "      <th>13</th>\n",
       "      <td>-2.212677</td>\n",
       "      <td>-0.496304</td>\n",
       "    </tr>\n",
       "    <tr>\n",
       "      <th>14</th>\n",
       "      <td>2.319577</td>\n",
       "      <td>0.575946</td>\n",
       "    </tr>\n",
       "    <tr>\n",
       "      <th>15</th>\n",
       "      <td>-2.250072</td>\n",
       "      <td>0.496055</td>\n",
       "    </tr>\n",
       "    <tr>\n",
       "      <th>16</th>\n",
       "      <td>1.445082</td>\n",
       "      <td>-1.398558</td>\n",
       "    </tr>\n",
       "    <tr>\n",
       "      <th>17</th>\n",
       "      <td>-1.553930</td>\n",
       "      <td>0.351307</td>\n",
       "    </tr>\n",
       "    <tr>\n",
       "      <th>18</th>\n",
       "      <td>1.405622</td>\n",
       "      <td>-1.839270</td>\n",
       "    </tr>\n",
       "    <tr>\n",
       "      <th>19</th>\n",
       "      <td>-1.147466</td>\n",
       "      <td>0.277705</td>\n",
       "    </tr>\n",
       "    <tr>\n",
       "      <th>20</th>\n",
       "      <td>2.272323</td>\n",
       "      <td>1.463345</td>\n",
       "    </tr>\n",
       "    <tr>\n",
       "      <th>21</th>\n",
       "      <td>1.392608</td>\n",
       "      <td>-1.004706</td>\n",
       "    </tr>\n",
       "    <tr>\n",
       "      <th>22</th>\n",
       "      <td>-1.084225</td>\n",
       "      <td>-0.913303</td>\n",
       "    </tr>\n",
       "    <tr>\n",
       "      <th>23</th>\n",
       "      <td>-1.840490</td>\n",
       "      <td>1.252621</td>\n",
       "    </tr>\n",
       "    <tr>\n",
       "      <th>24</th>\n",
       "      <td>-2.214003</td>\n",
       "      <td>-0.306980</td>\n",
       "    </tr>\n",
       "    <tr>\n",
       "      <th>25</th>\n",
       "      <td>0.473468</td>\n",
       "      <td>0.636073</td>\n",
       "    </tr>\n",
       "    <tr>\n",
       "      <th>26</th>\n",
       "      <td>-1.118928</td>\n",
       "      <td>0.016661</td>\n",
       "    </tr>\n",
       "    <tr>\n",
       "      <th>27</th>\n",
       "      <td>2.355410</td>\n",
       "      <td>0.080883</td>\n",
       "    </tr>\n",
       "    <tr>\n",
       "      <th>28</th>\n",
       "      <td>1.202486</td>\n",
       "      <td>3.282767</td>\n",
       "    </tr>\n",
       "    <tr>\n",
       "      <th>29</th>\n",
       "      <td>-1.849208</td>\n",
       "      <td>1.774832</td>\n",
       "    </tr>\n",
       "    <tr>\n",
       "      <th>...</th>\n",
       "      <td>...</td>\n",
       "      <td>...</td>\n",
       "    </tr>\n",
       "    <tr>\n",
       "      <th>8493</th>\n",
       "      <td>0.505413</td>\n",
       "      <td>0.000468</td>\n",
       "    </tr>\n",
       "    <tr>\n",
       "      <th>8494</th>\n",
       "      <td>0.544972</td>\n",
       "      <td>-0.636046</td>\n",
       "    </tr>\n",
       "    <tr>\n",
       "      <th>8495</th>\n",
       "      <td>-1.091048</td>\n",
       "      <td>-0.991168</td>\n",
       "    </tr>\n",
       "    <tr>\n",
       "      <th>8496</th>\n",
       "      <td>0.507810</td>\n",
       "      <td>0.004332</td>\n",
       "    </tr>\n",
       "    <tr>\n",
       "      <th>8497</th>\n",
       "      <td>-1.102461</td>\n",
       "      <td>-0.433941</td>\n",
       "    </tr>\n",
       "    <tr>\n",
       "      <th>8498</th>\n",
       "      <td>1.433214</td>\n",
       "      <td>-1.181259</td>\n",
       "    </tr>\n",
       "    <tr>\n",
       "      <th>8499</th>\n",
       "      <td>-1.093505</td>\n",
       "      <td>-0.625763</td>\n",
       "    </tr>\n",
       "    <tr>\n",
       "      <th>8500</th>\n",
       "      <td>0.554070</td>\n",
       "      <td>-0.713772</td>\n",
       "    </tr>\n",
       "    <tr>\n",
       "      <th>8501</th>\n",
       "      <td>0.520886</td>\n",
       "      <td>-0.165399</td>\n",
       "    </tr>\n",
       "    <tr>\n",
       "      <th>8502</th>\n",
       "      <td>-0.430827</td>\n",
       "      <td>-0.357914</td>\n",
       "    </tr>\n",
       "    <tr>\n",
       "      <th>8503</th>\n",
       "      <td>-1.078080</td>\n",
       "      <td>-0.669681</td>\n",
       "    </tr>\n",
       "    <tr>\n",
       "      <th>8504</th>\n",
       "      <td>1.343352</td>\n",
       "      <td>-0.856337</td>\n",
       "    </tr>\n",
       "    <tr>\n",
       "      <th>8505</th>\n",
       "      <td>1.375403</td>\n",
       "      <td>-0.189734</td>\n",
       "    </tr>\n",
       "    <tr>\n",
       "      <th>8506</th>\n",
       "      <td>1.397476</td>\n",
       "      <td>-0.945021</td>\n",
       "    </tr>\n",
       "    <tr>\n",
       "      <th>8507</th>\n",
       "      <td>-1.106513</td>\n",
       "      <td>-0.010973</td>\n",
       "    </tr>\n",
       "    <tr>\n",
       "      <th>8508</th>\n",
       "      <td>-0.411605</td>\n",
       "      <td>-0.094543</td>\n",
       "    </tr>\n",
       "    <tr>\n",
       "      <th>8509</th>\n",
       "      <td>1.165153</td>\n",
       "      <td>3.230167</td>\n",
       "    </tr>\n",
       "    <tr>\n",
       "      <th>8510</th>\n",
       "      <td>-1.111390</td>\n",
       "      <td>-0.285061</td>\n",
       "    </tr>\n",
       "    <tr>\n",
       "      <th>8511</th>\n",
       "      <td>1.431723</td>\n",
       "      <td>-1.173064</td>\n",
       "    </tr>\n",
       "    <tr>\n",
       "      <th>8512</th>\n",
       "      <td>2.345425</td>\n",
       "      <td>0.326252</td>\n",
       "    </tr>\n",
       "    <tr>\n",
       "      <th>8513</th>\n",
       "      <td>-1.083447</td>\n",
       "      <td>-0.474990</td>\n",
       "    </tr>\n",
       "    <tr>\n",
       "      <th>8514</th>\n",
       "      <td>-0.406451</td>\n",
       "      <td>0.223759</td>\n",
       "    </tr>\n",
       "    <tr>\n",
       "      <th>8515</th>\n",
       "      <td>1.444049</td>\n",
       "      <td>-0.964885</td>\n",
       "    </tr>\n",
       "    <tr>\n",
       "      <th>8516</th>\n",
       "      <td>1.385743</td>\n",
       "      <td>-0.287573</td>\n",
       "    </tr>\n",
       "    <tr>\n",
       "      <th>8517</th>\n",
       "      <td>-2.242556</td>\n",
       "      <td>0.290100</td>\n",
       "    </tr>\n",
       "    <tr>\n",
       "      <th>8518</th>\n",
       "      <td>2.313834</td>\n",
       "      <td>0.191591</td>\n",
       "    </tr>\n",
       "    <tr>\n",
       "      <th>8519</th>\n",
       "      <td>-0.419432</td>\n",
       "      <td>0.354201</td>\n",
       "    </tr>\n",
       "    <tr>\n",
       "      <th>8520</th>\n",
       "      <td>-1.092847</td>\n",
       "      <td>-0.633261</td>\n",
       "    </tr>\n",
       "    <tr>\n",
       "      <th>8521</th>\n",
       "      <td>1.339139</td>\n",
       "      <td>0.529259</td>\n",
       "    </tr>\n",
       "    <tr>\n",
       "      <th>8522</th>\n",
       "      <td>-2.208349</td>\n",
       "      <td>-0.985378</td>\n",
       "    </tr>\n",
       "  </tbody>\n",
       "</table>\n",
       "<p>8523 rows × 2 columns</p>\n",
       "</div>"
      ],
      "text/plain": [
       "           PC1       PC2\n",
       "0    -1.521047 -0.972114\n",
       "1     1.430439 -1.000643\n",
       "2    -1.494247 -1.333745\n",
       "3     1.336605  0.972253\n",
       "4     2.364669 -0.229120\n",
       "5     1.441206 -0.560549\n",
       "6     2.363203  0.117556\n",
       "7     1.344470 -1.023844\n",
       "8    -0.377943 -0.375597\n",
       "9     0.472962  1.090882\n",
       "10   -1.490847 -1.198459\n",
       "11   -2.218484 -0.070004\n",
       "12   -1.566266  0.383234\n",
       "13   -2.212677 -0.496304\n",
       "14    2.319577  0.575946\n",
       "15   -2.250072  0.496055\n",
       "16    1.445082 -1.398558\n",
       "17   -1.553930  0.351307\n",
       "18    1.405622 -1.839270\n",
       "19   -1.147466  0.277705\n",
       "20    2.272323  1.463345\n",
       "21    1.392608 -1.004706\n",
       "22   -1.084225 -0.913303\n",
       "23   -1.840490  1.252621\n",
       "24   -2.214003 -0.306980\n",
       "25    0.473468  0.636073\n",
       "26   -1.118928  0.016661\n",
       "27    2.355410  0.080883\n",
       "28    1.202486  3.282767\n",
       "29   -1.849208  1.774832\n",
       "...        ...       ...\n",
       "8493  0.505413  0.000468\n",
       "8494  0.544972 -0.636046\n",
       "8495 -1.091048 -0.991168\n",
       "8496  0.507810  0.004332\n",
       "8497 -1.102461 -0.433941\n",
       "8498  1.433214 -1.181259\n",
       "8499 -1.093505 -0.625763\n",
       "8500  0.554070 -0.713772\n",
       "8501  0.520886 -0.165399\n",
       "8502 -0.430827 -0.357914\n",
       "8503 -1.078080 -0.669681\n",
       "8504  1.343352 -0.856337\n",
       "8505  1.375403 -0.189734\n",
       "8506  1.397476 -0.945021\n",
       "8507 -1.106513 -0.010973\n",
       "8508 -0.411605 -0.094543\n",
       "8509  1.165153  3.230167\n",
       "8510 -1.111390 -0.285061\n",
       "8511  1.431723 -1.173064\n",
       "8512  2.345425  0.326252\n",
       "8513 -1.083447 -0.474990\n",
       "8514 -0.406451  0.223759\n",
       "8515  1.444049 -0.964885\n",
       "8516  1.385743 -0.287573\n",
       "8517 -2.242556  0.290100\n",
       "8518  2.313834  0.191591\n",
       "8519 -0.419432  0.354201\n",
       "8520 -1.092847 -0.633261\n",
       "8521  1.339139  0.529259\n",
       "8522 -2.208349 -0.985378\n",
       "\n",
       "[8523 rows x 2 columns]"
      ]
     },
     "execution_count": 67,
     "metadata": {},
     "output_type": "execute_result"
    }
   ],
   "source": [
    "datafe_pca=pd.DataFrame(bmsfe_pca, columns=[\"PC1\",\"PC2\"])\n",
    "datafe_pca"
   ]
  },
  {
   "cell_type": "markdown",
   "metadata": {},
   "source": [
    "> After performing principal component analysis using the feature extraction method, it was found that from the beginning there were 10 predictor variables then reduced to 2 predictor variables."
   ]
  }
 ],
 "metadata": {
  "kernelspec": {
   "display_name": "Python 3",
   "language": "python",
   "name": "python3"
  },
  "language_info": {
   "codemirror_mode": {
    "name": "ipython",
    "version": 3
   },
   "file_extension": ".py",
   "mimetype": "text/x-python",
   "name": "python",
   "nbconvert_exporter": "python",
   "pygments_lexer": "ipython3",
   "version": "3.7.1"
  }
 },
 "nbformat": 4,
 "nbformat_minor": 2
}
